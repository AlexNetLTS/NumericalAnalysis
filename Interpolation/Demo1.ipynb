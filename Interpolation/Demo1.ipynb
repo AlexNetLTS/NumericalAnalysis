{
 "cells": [
  {
   "attachments": {},
   "cell_type": "markdown",
   "metadata": {},
   "source": [
    "<left><font face='楷体' size=6>题目：</font></left>\n",
    "\n",
    "$$\n",
    "I_{n} = \\int_{0}^{1} \\frac{x^n}{x+a}\\mathrm{d}x, n=0, 1, ... 10; 当a=0.05 和 a = 15, 求取值\n",
    "$$"
   ]
  },
  {
   "attachments": {},
   "cell_type": "markdown",
   "metadata": {},
   "source": [
    "<left><font face='楷体' size=5>递推法</font></left>"
   ]
  },
  {
   "cell_type": "code",
   "execution_count": 2,
   "metadata": {},
   "outputs": [],
   "source": [
    "import math\n",
    "import pandas as pd\n",
    "from decimal import Decimal\n",
    "\n",
    "def I(a, num):\n",
    "    b = num\n",
    "    a, num = Decimal(a),Decimal(num)\n",
    "    lst1, lst2 = [], []\n",
    "    i = math.log(Decimal(a + 1)) - math.log(Decimal(a))\n",
    "    for n in range(1, b + 1):\n",
    "        n = Decimal(n)\n",
    "        lst1.append(n)\n",
    "        i = -a * n + (Decimal(1) / n)\n",
    "        lst2.append(i)\n",
    "    return lst1, lst2\n",
    "\n",
    "lst1, lst2 = I(0.05, 10)\n",
    "lst3, lst4 = I(15, 10)"
   ]
  },
  {
   "attachments": {},
   "cell_type": "markdown",
   "metadata": {},
   "source": [
    "<left><font face='楷体' size=5>估计法</font></left>"
   ]
  },
  {
   "cell_type": "code",
   "execution_count": 6,
   "metadata": {},
   "outputs": [],
   "source": [
    "def I(a, n):\n",
    "    b = n\n",
    "    a, n = Decimal(a), Decimal(n)\n",
    "    judge = True if 0 <= a < (n / Decimal(n + 1)) else False\n",
    "    lst1, lst2 = [], [] \n",
    "    match (judge):\n",
    "        case (True):\n",
    "            a1 = (Decimal(1) / (Decimal(a + 1) * Decimal(n + 1)))\n",
    "            a2 = Decimal(1) / n\n",
    "            I = Decimal(0.5) * (a1 + a2)\n",
    "            for i in range(b, 0, -1):\n",
    "                i = Decimal(i)\n",
    "                lst1.append(i)\n",
    "                I = (Decimal(1) / a) * ((Decimal(1) / i) - I)\n",
    "                lst2.append(I)\n",
    "            return reversed(lst1), reversed(lst2)\n",
    "            # return lst1, lst2\n",
    "        case (False):\n",
    "            a1 = (Decimal(1) / (Decimal(a + 1) * Decimal(n + 1)))\n",
    "            a2 = Decimal(1) / a * Decimal(n + 1)\n",
    "            I = Decimal(0.5) * (a1 + a2)\n",
    "            for i in range(b, 0, -1):\n",
    "                i = Decimal(i)\n",
    "                lst1.append(i)\n",
    "                I = (Decimal(1) / a) * (Decimal(1 / i) - I)\n",
    "                lst2.append(I)\n",
    "            return reversed(lst1), reversed(lst2)\n",
    "            # return lst1, lst2\n",
    "        \n",
    "\n",
    "lst5, lst6 = I(0.05, 10)\n",
    "lst7, lst8 = I(15, 10)"
   ]
  },
  {
   "attachments": {},
   "cell_type": "markdown",
   "metadata": {},
   "source": [
    "<left><font face='楷体' size=5>直接法</font></left>"
   ]
  },
  {
   "cell_type": "code",
   "execution_count": 7,
   "metadata": {},
   "outputs": [],
   "source": [
    "from scipy import integrate\n",
    "\n",
    "def main(x, a, n):\n",
    "    return x ** n / (x + a)\n",
    "\n",
    "\n",
    "reslut1, reslut2 = [], []\n",
    "for i in range(1, 11):\n",
    "    r1 = integrate.quad(main, 0, 1, args=(0.05, i))\n",
    "    r2 = integrate.quad(main, 0, 1, args=(15, i))\n",
    "    reslut1.append(r1)\n",
    "    reslut2.append(r2)"
   ]
  },
  {
   "cell_type": "code",
   "execution_count": 8,
   "metadata": {},
   "outputs": [],
   "source": [
    "# n = 0.05\n",
    "data1 = pd.DataFrame({'方法一': lst2, '方法二': lst6, '真实值': reslut1})\n",
    "data1.to_csv('data/data1.csv')\n",
    "\n",
    "# n = 15\n",
    "data2 = pd.DataFrame({'方法一': lst4, '方法二': lst8, '真实值': reslut2})\n",
    "data2.to_csv('data/data2.csv')"
   ]
  }
 ],
 "metadata": {
  "kernelspec": {
   "display_name": "Python 3",
   "language": "python",
   "name": "python3"
  },
  "language_info": {
   "codemirror_mode": {
    "name": "ipython",
    "version": 3
   },
   "file_extension": ".py",
   "mimetype": "text/x-python",
   "name": "python",
   "nbconvert_exporter": "python",
   "pygments_lexer": "ipython3",
   "version": "3.11.2"
  },
  "orig_nbformat": 4
 },
 "nbformat": 4,
 "nbformat_minor": 2
}
