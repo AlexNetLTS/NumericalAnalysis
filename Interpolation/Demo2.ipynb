{
 "cells": [
  {
   "cell_type": "code",
   "execution_count": 1,
   "metadata": {},
   "outputs": [],
   "source": [
    "from Interpolation import Interpolation\n",
    "import numpy as np\n",
    "from scipy.interpolate import lagrange"
   ]
  },
  {
   "cell_type": "code",
   "execution_count": 2,
   "metadata": {},
   "outputs": [],
   "source": [
    "x1 = np.array([0.4, 0.55, 0.65, 0.80, 0.95, 1.05])\n",
    "y1 = np.array([0.41075, 0.57815, 0.69675, 0.90, 1.00, 1.25382])"
   ]
  },
  {
   "cell_type": "code",
   "execution_count": 3,
   "metadata": {},
   "outputs": [],
   "source": [
    "poly = lagrange(x1, y1)"
   ]
  },
  {
   "cell_type": "code",
   "execution_count": 4,
   "metadata": {},
   "outputs": [
    {
     "data": {
      "text/plain": [
       "array([ 121.62635587, -422.75031235,  572.56674841, -377.25487322,\n",
       "        121.97183849,  -15.08452347])"
      ]
     },
     "execution_count": 4,
     "metadata": {},
     "output_type": "execute_result"
    }
   ],
   "source": [
    "poly.coef"
   ]
  },
  {
   "cell_type": "code",
   "execution_count": 5,
   "metadata": {},
   "outputs": [],
   "source": [
    "ip = Interpolation(x1, y1)"
   ]
  },
  {
   "cell_type": "code",
   "execution_count": 6,
   "metadata": {},
   "outputs": [
    {
     "data": {
      "text/plain": [
       "0.6257323779526663"
      ]
     },
     "execution_count": 6,
     "metadata": {},
     "output_type": "execute_result"
    }
   ],
   "source": [
    "ip.lagrange(0.596)"
   ]
  },
  {
   "cell_type": "code",
   "execution_count": 7,
   "metadata": {},
   "outputs": [
    {
     "data": {
      "text/plain": [
       "[-0.015187055100419577,\n",
       " 0.46267693516800074,\n",
       " 0.6568870067199992,\n",
       " -0.13910548377599996,\n",
       " 0.045546864872727265,\n",
       " -0.010818267884307675]"
      ]
     },
     "execution_count": 7,
     "metadata": {},
     "output_type": "execute_result"
    }
   ],
   "source": [
    "ip.coef"
   ]
  },
  {
   "cell_type": "code",
   "execution_count": 8,
   "metadata": {},
   "outputs": [
    {
     "data": {
      "text/plain": [
       "1.0542297708127177"
      ]
     },
     "execution_count": 8,
     "metadata": {},
     "output_type": "execute_result"
    }
   ],
   "source": [
    "ip.lagrange(0.99)"
   ]
  },
  {
   "cell_type": "code",
   "execution_count": 9,
   "metadata": {},
   "outputs": [],
   "source": [
    "x2 = np.arange(1, 8, 1)\n",
    "y2 = np.array([0.368, 0.135, 0.0050, 0.018, 0.007, 0.002, 0.001])"
   ]
  },
  {
   "cell_type": "code",
   "execution_count": 10,
   "metadata": {},
   "outputs": [
    {
     "data": {
      "text/plain": [
       "array([-8.79166667e-04,  2.18291667e-02, -2.12979167e-01,  1.02527083e+00,\n",
       "       -2.47564167e+00,  2.59040000e+00, -5.80000000e-01])"
      ]
     },
     "execution_count": 10,
     "metadata": {},
     "output_type": "execute_result"
    }
   ],
   "source": [
    "lagrange(x2, y2).coef"
   ]
  },
  {
   "cell_type": "code",
   "execution_count": 11,
   "metadata": {},
   "outputs": [
    {
     "data": {
      "text/plain": [
       "0.18782493440000006"
      ]
     },
     "execution_count": 11,
     "metadata": {},
     "output_type": "execute_result"
    }
   ],
   "source": [
    "ip = Interpolation(x2, y2)\n",
    "ip.lagrange(1.8)"
   ]
  },
  {
   "cell_type": "code",
   "execution_count": 12,
   "metadata": {},
   "outputs": [
    {
     "data": {
      "text/plain": [
       "0.007582275856835954"
      ]
     },
     "execution_count": 12,
     "metadata": {},
     "output_type": "execute_result"
    }
   ],
   "source": [
    "ip.lagrange(6.15)"
   ]
  },
  {
   "cell_type": "code",
   "execution_count": 13,
   "metadata": {},
   "outputs": [
    {
     "data": {
      "text/plain": [
       "0.1816"
      ]
     },
     "execution_count": 13,
     "metadata": {},
     "output_type": "execute_result"
    }
   ],
   "source": [
    "ip = Interpolation(x2[0: 2], y2[0: 2])\n",
    "ip.lagrange(1.8)"
   ]
  },
  {
   "cell_type": "code",
   "execution_count": 14,
   "metadata": {},
   "outputs": [
    {
     "data": {
      "text/plain": [
       "0.0018499999999999996"
      ]
     },
     "execution_count": 14,
     "metadata": {},
     "output_type": "execute_result"
    }
   ],
   "source": [
    "ip = Interpolation(x2[-2: ], y2[-2: ])\n",
    "ip.lagrange(6.15)"
   ]
  },
  {
   "cell_type": "code",
   "execution_count": 15,
   "metadata": {},
   "outputs": [
    {
     "data": {
      "text/plain": [
       "0.17336"
      ]
     },
     "execution_count": 15,
     "metadata": {},
     "output_type": "execute_result"
    }
   ],
   "source": [
    "ip = Interpolation(x2[0: 3], y2[0: 3])\n",
    "ip.lagrange(1.8)"
   ]
  },
  {
   "cell_type": "code",
   "execution_count": 16,
   "metadata": {},
   "outputs": [
    {
     "data": {
      "text/plain": [
       "0.0015949999999999992"
      ]
     },
     "execution_count": 16,
     "metadata": {},
     "output_type": "execute_result"
    }
   ],
   "source": [
    "ip = Interpolation(x2[-3: ], y2[-3: ])\n",
    "ip.lagrange(6.15)"
   ]
  },
  {
   "cell_type": "code",
   "execution_count": 17,
   "metadata": {},
   "outputs": [],
   "source": [
    "x3 = np.arange(0.4, 0.9, 0.1)\n",
    "y3 = np.log(x3)"
   ]
  },
  {
   "cell_type": "code",
   "execution_count": 18,
   "metadata": {},
   "outputs": [
    {
     "data": {
      "text/plain": [
       "poly1d([-2.12480325,  6.78308673, -9.00727692,  6.98435424, -2.64859071])"
      ]
     },
     "execution_count": 18,
     "metadata": {},
     "output_type": "execute_result"
    }
   ],
   "source": [
    "lagrange(x3, y3)"
   ]
  },
  {
   "cell_type": "code",
   "execution_count": 19,
   "metadata": {},
   "outputs": [
    {
     "data": {
      "text/plain": [
       "-0.6348386420644505"
      ]
     },
     "execution_count": 19,
     "metadata": {},
     "output_type": "execute_result"
    }
   ],
   "source": [
    "ip = Interpolation(x3, y3)\n",
    "ip.newton(0.53)"
   ]
  },
  {
   "cell_type": "code",
   "execution_count": 20,
   "metadata": {},
   "outputs": [
    {
     "data": {
      "text/plain": [
       "-0.6348782724359695"
      ]
     },
     "execution_count": 20,
     "metadata": {},
     "output_type": "execute_result"
    }
   ],
   "source": [
    "np.log(0.53)"
   ]
  },
  {
   "cell_type": "code",
   "execution_count": 21,
   "metadata": {},
   "outputs": [],
   "source": [
    "from matplotlib_inline import backend_inline\n",
    "import seaborn as sns\n",
    "import matplotlib.pyplot as plt\n",
    "\n",
    "sns.set_style('dark')\n",
    "backend_inline.set_matplotlib_formats('svg')"
   ]
  },
  {
   "cell_type": "code",
   "execution_count": 22,
   "metadata": {},
   "outputs": [],
   "source": [
    "x = np.linspace(0.2, 1, 1000000)\n",
    "y = np.log(x)"
   ]
  },
  {
   "cell_type": "code",
   "execution_count": 23,
   "metadata": {},
   "outputs": [],
   "source": [
    "u1 = lagrange(x3[: 2], y3[: 2]).coef"
   ]
  },
  {
   "cell_type": "code",
   "execution_count": 24,
   "metadata": {},
   "outputs": [
    {
     "data": {
      "image/svg+xml": "<?xml version=\"1.0\" encoding=\"utf-8\" standalone=\"no\"?>\n<!DOCTYPE svg PUBLIC \"-//W3C//DTD SVG 1.1//EN\"\n  \"http://www.w3.org/Graphics/SVG/1.1/DTD/svg11.dtd\">\n<svg xmlns:xlink=\"http://www.w3.org/1999/xlink\" width=\"553.071094pt\" height=\"363.185313pt\" viewBox=\"0 0 553.071094 363.185313\" xmlns=\"http://www.w3.org/2000/svg\" version=\"1.1\">\n <metadata>\n  <rdf:RDF xmlns:dc=\"http://purl.org/dc/elements/1.1/\" xmlns:cc=\"http://creativecommons.org/ns#\" xmlns:rdf=\"http://www.w3.org/1999/02/22-rdf-syntax-ns#\">\n   <cc:Work>\n    <dc:type rdf:resource=\"http://purl.org/dc/dcmitype/StillImage\"/>\n    <dc:date>2023-03-23T20:37:22.461282</dc:date>\n    <dc:format>image/svg+xml</dc:format>\n    <dc:creator>\n     <cc:Agent>\n      <dc:title>Matplotlib v3.7.1, https://matplotlib.org/</dc:title>\n     </cc:Agent>\n    </dc:creator>\n   </cc:Work>\n  </rdf:RDF>\n </metadata>\n <defs>\n  <style type=\"text/css\">*{stroke-linejoin: round; stroke-linecap: butt}</style>\n </defs>\n <g id=\"figure_1\">\n  <g id=\"patch_1\">\n   <path d=\"M 0 363.185313 \nL 553.071094 363.185313 \nL 553.071094 0 \nL 0 0 \nz\n\" style=\"fill: #ffffff\"/>\n  </g>\n  <g id=\"axes_1\">\n   <g id=\"patch_2\">\n    <path d=\"M 33.940625 339.84 \nL 536.140625 339.84 \nL 536.140625 7.2 \nL 33.940625 7.2 \nz\n\" style=\"fill: #eaeaf2\"/>\n   </g>\n   <g id=\"matplotlib.axis_1\">\n    <g id=\"xtick_1\">\n     <g id=\"line2d_1\">\n      <path d=\"M 33.940625 339.84 \nL 33.940625 7.2 \n\" clip-path=\"url(#p96fc0dcb00)\" style=\"fill: none; stroke: #ffffff; stroke-width: 0.8; stroke-linecap: round\"/>\n     </g>\n     <g id=\"text_1\">\n      <!-- 0.70 -->\n      <g style=\"fill: #262626\" transform=\"translate(24.210156 353.997813) scale(0.1 -0.1)\">\n       <defs>\n        <path id=\"ArialMT-30\" d=\"M 266 2259 \nQ 266 3072 433 3567 \nQ 600 4063 929 4331 \nQ 1259 4600 1759 4600 \nQ 2128 4600 2406 4451 \nQ 2684 4303 2865 4023 \nQ 3047 3744 3150 3342 \nQ 3253 2941 3253 2259 \nQ 3253 1453 3087 958 \nQ 2922 463 2592 192 \nQ 2263 -78 1759 -78 \nQ 1097 -78 719 397 \nQ 266 969 266 2259 \nz\nM 844 2259 \nQ 844 1131 1108 757 \nQ 1372 384 1759 384 \nQ 2147 384 2411 759 \nQ 2675 1134 2675 2259 \nQ 2675 3391 2411 3762 \nQ 2147 4134 1753 4134 \nQ 1366 4134 1134 3806 \nQ 844 3388 844 2259 \nz\n\" transform=\"scale(0.015625)\"/>\n        <path id=\"ArialMT-2e\" d=\"M 581 0 \nL 581 641 \nL 1222 641 \nL 1222 0 \nL 581 0 \nz\n\" transform=\"scale(0.015625)\"/>\n        <path id=\"ArialMT-37\" d=\"M 303 3981 \nL 303 4522 \nL 3269 4522 \nL 3269 4084 \nQ 2831 3619 2401 2847 \nQ 1972 2075 1738 1259 \nQ 1569 684 1522 0 \nL 944 0 \nQ 953 541 1156 1306 \nQ 1359 2072 1739 2783 \nQ 2119 3494 2547 3981 \nL 303 3981 \nz\n\" transform=\"scale(0.015625)\"/>\n       </defs>\n       <use xlink:href=\"#ArialMT-30\"/>\n       <use xlink:href=\"#ArialMT-2e\" x=\"55.615234\"/>\n       <use xlink:href=\"#ArialMT-37\" x=\"83.398438\"/>\n       <use xlink:href=\"#ArialMT-30\" x=\"139.013672\"/>\n      </g>\n     </g>\n    </g>\n    <g id=\"xtick_2\">\n     <g id=\"line2d_2\">\n      <path d=\"M 117.640625 339.84 \nL 117.640625 7.2 \n\" clip-path=\"url(#p96fc0dcb00)\" style=\"fill: none; stroke: #ffffff; stroke-width: 0.8; stroke-linecap: round\"/>\n     </g>\n     <g id=\"text_2\">\n      <!-- 0.75 -->\n      <g style=\"fill: #262626\" transform=\"translate(107.910156 353.997813) scale(0.1 -0.1)\">\n       <defs>\n        <path id=\"ArialMT-35\" d=\"M 266 1200 \nL 856 1250 \nQ 922 819 1161 601 \nQ 1400 384 1738 384 \nQ 2144 384 2425 690 \nQ 2706 997 2706 1503 \nQ 2706 1984 2436 2262 \nQ 2166 2541 1728 2541 \nQ 1456 2541 1237 2417 \nQ 1019 2294 894 2097 \nL 366 2166 \nL 809 4519 \nL 3088 4519 \nL 3088 3981 \nL 1259 3981 \nL 1013 2750 \nQ 1425 3038 1878 3038 \nQ 2478 3038 2890 2622 \nQ 3303 2206 3303 1553 \nQ 3303 931 2941 478 \nQ 2500 -78 1738 -78 \nQ 1113 -78 717 272 \nQ 322 622 266 1200 \nz\n\" transform=\"scale(0.015625)\"/>\n       </defs>\n       <use xlink:href=\"#ArialMT-30\"/>\n       <use xlink:href=\"#ArialMT-2e\" x=\"55.615234\"/>\n       <use xlink:href=\"#ArialMT-37\" x=\"83.398438\"/>\n       <use xlink:href=\"#ArialMT-35\" x=\"139.013672\"/>\n      </g>\n     </g>\n    </g>\n    <g id=\"xtick_3\">\n     <g id=\"line2d_3\">\n      <path d=\"M 201.340625 339.84 \nL 201.340625 7.2 \n\" clip-path=\"url(#p96fc0dcb00)\" style=\"fill: none; stroke: #ffffff; stroke-width: 0.8; stroke-linecap: round\"/>\n     </g>\n     <g id=\"text_3\">\n      <!-- 0.80 -->\n      <g style=\"fill: #262626\" transform=\"translate(191.610156 353.997813) scale(0.1 -0.1)\">\n       <defs>\n        <path id=\"ArialMT-38\" d=\"M 1131 2484 \nQ 781 2613 612 2850 \nQ 444 3088 444 3419 \nQ 444 3919 803 4259 \nQ 1163 4600 1759 4600 \nQ 2359 4600 2725 4251 \nQ 3091 3903 3091 3403 \nQ 3091 3084 2923 2848 \nQ 2756 2613 2416 2484 \nQ 2838 2347 3058 2040 \nQ 3278 1734 3278 1309 \nQ 3278 722 2862 322 \nQ 2447 -78 1769 -78 \nQ 1091 -78 675 323 \nQ 259 725 259 1325 \nQ 259 1772 486 2073 \nQ 713 2375 1131 2484 \nz\nM 1019 3438 \nQ 1019 3113 1228 2906 \nQ 1438 2700 1772 2700 \nQ 2097 2700 2305 2904 \nQ 2513 3109 2513 3406 \nQ 2513 3716 2298 3927 \nQ 2084 4138 1766 4138 \nQ 1444 4138 1231 3931 \nQ 1019 3725 1019 3438 \nz\nM 838 1322 \nQ 838 1081 952 856 \nQ 1066 631 1291 507 \nQ 1516 384 1775 384 \nQ 2178 384 2440 643 \nQ 2703 903 2703 1303 \nQ 2703 1709 2433 1975 \nQ 2163 2241 1756 2241 \nQ 1359 2241 1098 1978 \nQ 838 1716 838 1322 \nz\n\" transform=\"scale(0.015625)\"/>\n       </defs>\n       <use xlink:href=\"#ArialMT-30\"/>\n       <use xlink:href=\"#ArialMT-2e\" x=\"55.615234\"/>\n       <use xlink:href=\"#ArialMT-38\" x=\"83.398438\"/>\n       <use xlink:href=\"#ArialMT-30\" x=\"139.013672\"/>\n      </g>\n     </g>\n    </g>\n    <g id=\"xtick_4\">\n     <g id=\"line2d_4\">\n      <path d=\"M 285.040625 339.84 \nL 285.040625 7.2 \n\" clip-path=\"url(#p96fc0dcb00)\" style=\"fill: none; stroke: #ffffff; stroke-width: 0.8; stroke-linecap: round\"/>\n     </g>\n     <g id=\"text_4\">\n      <!-- 0.85 -->\n      <g style=\"fill: #262626\" transform=\"translate(275.310156 353.997813) scale(0.1 -0.1)\">\n       <use xlink:href=\"#ArialMT-30\"/>\n       <use xlink:href=\"#ArialMT-2e\" x=\"55.615234\"/>\n       <use xlink:href=\"#ArialMT-38\" x=\"83.398438\"/>\n       <use xlink:href=\"#ArialMT-35\" x=\"139.013672\"/>\n      </g>\n     </g>\n    </g>\n    <g id=\"xtick_5\">\n     <g id=\"line2d_5\">\n      <path d=\"M 368.740625 339.84 \nL 368.740625 7.2 \n\" clip-path=\"url(#p96fc0dcb00)\" style=\"fill: none; stroke: #ffffff; stroke-width: 0.8; stroke-linecap: round\"/>\n     </g>\n     <g id=\"text_5\">\n      <!-- 0.90 -->\n      <g style=\"fill: #262626\" transform=\"translate(359.010156 353.997813) scale(0.1 -0.1)\">\n       <defs>\n        <path id=\"ArialMT-39\" d=\"M 350 1059 \nL 891 1109 \nQ 959 728 1153 556 \nQ 1347 384 1650 384 \nQ 1909 384 2104 503 \nQ 2300 622 2425 820 \nQ 2550 1019 2634 1356 \nQ 2719 1694 2719 2044 \nQ 2719 2081 2716 2156 \nQ 2547 1888 2255 1720 \nQ 1963 1553 1622 1553 \nQ 1053 1553 659 1965 \nQ 266 2378 266 3053 \nQ 266 3750 677 4175 \nQ 1088 4600 1706 4600 \nQ 2153 4600 2523 4359 \nQ 2894 4119 3086 3673 \nQ 3278 3228 3278 2384 \nQ 3278 1506 3087 986 \nQ 2897 466 2520 194 \nQ 2144 -78 1638 -78 \nQ 1100 -78 759 220 \nQ 419 519 350 1059 \nz\nM 2653 3081 \nQ 2653 3566 2395 3850 \nQ 2138 4134 1775 4134 \nQ 1400 4134 1122 3828 \nQ 844 3522 844 3034 \nQ 844 2597 1108 2323 \nQ 1372 2050 1759 2050 \nQ 2150 2050 2401 2323 \nQ 2653 2597 2653 3081 \nz\n\" transform=\"scale(0.015625)\"/>\n       </defs>\n       <use xlink:href=\"#ArialMT-30\"/>\n       <use xlink:href=\"#ArialMT-2e\" x=\"55.615234\"/>\n       <use xlink:href=\"#ArialMT-39\" x=\"83.398438\"/>\n       <use xlink:href=\"#ArialMT-30\" x=\"139.013672\"/>\n      </g>\n     </g>\n    </g>\n    <g id=\"xtick_6\">\n     <g id=\"line2d_6\">\n      <path d=\"M 452.440625 339.84 \nL 452.440625 7.2 \n\" clip-path=\"url(#p96fc0dcb00)\" style=\"fill: none; stroke: #ffffff; stroke-width: 0.8; stroke-linecap: round\"/>\n     </g>\n     <g id=\"text_6\">\n      <!-- 0.95 -->\n      <g style=\"fill: #262626\" transform=\"translate(442.710156 353.997813) scale(0.1 -0.1)\">\n       <use xlink:href=\"#ArialMT-30\"/>\n       <use xlink:href=\"#ArialMT-2e\" x=\"55.615234\"/>\n       <use xlink:href=\"#ArialMT-39\" x=\"83.398438\"/>\n       <use xlink:href=\"#ArialMT-35\" x=\"139.013672\"/>\n      </g>\n     </g>\n    </g>\n    <g id=\"xtick_7\">\n     <g id=\"line2d_7\">\n      <path d=\"M 536.140625 339.84 \nL 536.140625 7.2 \n\" clip-path=\"url(#p96fc0dcb00)\" style=\"fill: none; stroke: #ffffff; stroke-width: 0.8; stroke-linecap: round\"/>\n     </g>\n     <g id=\"text_7\">\n      <!-- 1.00 -->\n      <g style=\"fill: #262626\" transform=\"translate(526.410156 353.997813) scale(0.1 -0.1)\">\n       <defs>\n        <path id=\"ArialMT-31\" d=\"M 2384 0 \nL 1822 0 \nL 1822 3584 \nQ 1619 3391 1289 3197 \nQ 959 3003 697 2906 \nL 697 3450 \nQ 1169 3672 1522 3987 \nQ 1875 4303 2022 4600 \nL 2384 4600 \nL 2384 0 \nz\n\" transform=\"scale(0.015625)\"/>\n       </defs>\n       <use xlink:href=\"#ArialMT-31\"/>\n       <use xlink:href=\"#ArialMT-2e\" x=\"55.615234\"/>\n       <use xlink:href=\"#ArialMT-30\" x=\"83.398438\"/>\n       <use xlink:href=\"#ArialMT-30\" x=\"139.013672\"/>\n      </g>\n     </g>\n    </g>\n   </g>\n   <g id=\"matplotlib.axis_2\">\n    <g id=\"ytick_1\">\n     <g id=\"line2d_8\">\n      <path d=\"M 33.940625 306.576 \nL 536.140625 306.576 \n\" clip-path=\"url(#p96fc0dcb00)\" style=\"fill: none; stroke: #ffffff; stroke-width: 0.8; stroke-linecap: round\"/>\n     </g>\n     <g id=\"text_8\">\n      <!-- −0.4 -->\n      <g style=\"fill: #262626\" transform=\"translate(7.2 310.154906) scale(0.1 -0.1)\">\n       <defs>\n        <path id=\"ArialMT-2212\" d=\"M 3381 1997 \nL 356 1997 \nL 356 2522 \nL 3381 2522 \nL 3381 1997 \nz\n\" transform=\"scale(0.015625)\"/>\n        <path id=\"ArialMT-34\" d=\"M 2069 0 \nL 2069 1097 \nL 81 1097 \nL 81 1613 \nL 2172 4581 \nL 2631 4581 \nL 2631 1613 \nL 3250 1613 \nL 3250 1097 \nL 2631 1097 \nL 2631 0 \nL 2069 0 \nz\nM 2069 1613 \nL 2069 3678 \nL 634 1613 \nL 2069 1613 \nz\n\" transform=\"scale(0.015625)\"/>\n       </defs>\n       <use xlink:href=\"#ArialMT-2212\"/>\n       <use xlink:href=\"#ArialMT-30\" x=\"58.398438\"/>\n       <use xlink:href=\"#ArialMT-2e\" x=\"114.013672\"/>\n       <use xlink:href=\"#ArialMT-34\" x=\"141.796875\"/>\n      </g>\n     </g>\n    </g>\n    <g id=\"ytick_2\">\n     <g id=\"line2d_9\">\n      <path d=\"M 33.940625 240.048 \nL 536.140625 240.048 \n\" clip-path=\"url(#p96fc0dcb00)\" style=\"fill: none; stroke: #ffffff; stroke-width: 0.8; stroke-linecap: round\"/>\n     </g>\n     <g id=\"text_9\">\n      <!-- −0.2 -->\n      <g style=\"fill: #262626\" transform=\"translate(7.2 243.626906) scale(0.1 -0.1)\">\n       <defs>\n        <path id=\"ArialMT-32\" d=\"M 3222 541 \nL 3222 0 \nL 194 0 \nQ 188 203 259 391 \nQ 375 700 629 1000 \nQ 884 1300 1366 1694 \nQ 2113 2306 2375 2664 \nQ 2638 3022 2638 3341 \nQ 2638 3675 2398 3904 \nQ 2159 4134 1775 4134 \nQ 1369 4134 1125 3890 \nQ 881 3647 878 3216 \nL 300 3275 \nQ 359 3922 746 4261 \nQ 1134 4600 1788 4600 \nQ 2447 4600 2831 4234 \nQ 3216 3869 3216 3328 \nQ 3216 3053 3103 2787 \nQ 2991 2522 2730 2228 \nQ 2469 1934 1863 1422 \nQ 1356 997 1212 845 \nQ 1069 694 975 541 \nL 3222 541 \nz\n\" transform=\"scale(0.015625)\"/>\n       </defs>\n       <use xlink:href=\"#ArialMT-2212\"/>\n       <use xlink:href=\"#ArialMT-30\" x=\"58.398438\"/>\n       <use xlink:href=\"#ArialMT-2e\" x=\"114.013672\"/>\n       <use xlink:href=\"#ArialMT-32\" x=\"141.796875\"/>\n      </g>\n     </g>\n    </g>\n    <g id=\"ytick_3\">\n     <g id=\"line2d_10\">\n      <path d=\"M 33.940625 173.52 \nL 536.140625 173.52 \n\" clip-path=\"url(#p96fc0dcb00)\" style=\"fill: none; stroke: #ffffff; stroke-width: 0.8; stroke-linecap: round\"/>\n     </g>\n     <g id=\"text_10\">\n      <!-- 0.0 -->\n      <g style=\"fill: #262626\" transform=\"translate(13.040625 177.098906) scale(0.1 -0.1)\">\n       <use xlink:href=\"#ArialMT-30\"/>\n       <use xlink:href=\"#ArialMT-2e\" x=\"55.615234\"/>\n       <use xlink:href=\"#ArialMT-30\" x=\"83.398438\"/>\n      </g>\n     </g>\n    </g>\n    <g id=\"ytick_4\">\n     <g id=\"line2d_11\">\n      <path d=\"M 33.940625 106.992 \nL 536.140625 106.992 \n\" clip-path=\"url(#p96fc0dcb00)\" style=\"fill: none; stroke: #ffffff; stroke-width: 0.8; stroke-linecap: round\"/>\n     </g>\n     <g id=\"text_11\">\n      <!-- 0.2 -->\n      <g style=\"fill: #262626\" transform=\"translate(13.040625 110.570906) scale(0.1 -0.1)\">\n       <use xlink:href=\"#ArialMT-30\"/>\n       <use xlink:href=\"#ArialMT-2e\" x=\"55.615234\"/>\n       <use xlink:href=\"#ArialMT-32\" x=\"83.398438\"/>\n      </g>\n     </g>\n    </g>\n    <g id=\"ytick_5\">\n     <g id=\"line2d_12\">\n      <path d=\"M 33.940625 40.464 \nL 536.140625 40.464 \n\" clip-path=\"url(#p96fc0dcb00)\" style=\"fill: none; stroke: #ffffff; stroke-width: 0.8; stroke-linecap: round\"/>\n     </g>\n     <g id=\"text_12\">\n      <!-- 0.4 -->\n      <g style=\"fill: #262626\" transform=\"translate(13.040625 44.042906) scale(0.1 -0.1)\">\n       <use xlink:href=\"#ArialMT-30\"/>\n       <use xlink:href=\"#ArialMT-2e\" x=\"55.615234\"/>\n       <use xlink:href=\"#ArialMT-34\" x=\"83.398438\"/>\n      </g>\n     </g>\n    </g>\n   </g>\n   <g id=\"PathCollection_1\">\n    <defs>\n     <path id=\"m4f260ba9cb\" d=\"M 0 1.5 \nC 0.397805 1.5 0.77937 1.341951 1.06066 1.06066 \nC 1.341951 0.77937 1.5 0.397805 1.5 0 \nC 1.5 -0.397805 1.341951 -0.77937 1.06066 -1.06066 \nC 0.77937 -1.341951 0.397805 -1.5 0 -1.5 \nC -0.397805 -1.5 -0.77937 -1.341951 -1.06066 -1.06066 \nC -1.341951 -0.77937 -1.5 -0.397805 -1.5 0 \nC -1.5 0.397805 -1.341951 0.77937 -1.06066 1.06066 \nC -0.77937 1.341951 -0.397805 1.5 0 1.5 \nz\n\" style=\"stroke: #ff0000; stroke-opacity: 0.9\"/>\n    </defs>\n    <g clip-path=\"url(#p96fc0dcb00)\">\n     <use xlink:href=\"#m4f260ba9cb\" x=\"-1\" y=\"302.867097\" style=\"fill: #ff0000; fill-opacity: 0.9; stroke: #ff0000; stroke-opacity: 0.9\"/>\n     <use xlink:href=\"#m4f260ba9cb\" x=\"33.940625\" y=\"292.164353\" style=\"fill: #ff0000; fill-opacity: 0.9; stroke: #ff0000; stroke-opacity: 0.9\"/>\n     <use xlink:href=\"#m4f260ba9cb\" x=\"201.340625\" y=\"247.746471\" style=\"fill: #ff0000; fill-opacity: 0.9; stroke: #ff0000; stroke-opacity: 0.9\"/>\n    </g>\n   </g>\n   <g id=\"line2d_13\">\n    <path d=\"M 33.940123 292.164496 \nL 65.091285 283.437079 \nL 97.040611 274.717733 \nL 129.80819 266.006335 \nL 163.415447 257.302554 \nL 197.885151 248.605875 \nL 233.240066 239.915956 \nL 269.504299 231.232292 \nL 306.700616 222.554862 \nL 344.854463 213.883166 \nL 383.989943 205.217172 \nL 424.133843 196.556405 \nL 465.312945 187.900561 \nL 507.554033 179.249494 \nL 536.140625 173.52 \nL 536.140625 173.52 \n\" clip-path=\"url(#p96fc0dcb00)\" style=\"fill: none; stroke: #1f77b4; stroke-width: 1.5; stroke-linecap: round\"/>\n   </g>\n   <g id=\"line2d_14\">\n    <path d=\"M 33.940123 255.635759 \nL 536.140625 32.956124 \nL 536.140625 32.956124 \n\" clip-path=\"url(#p96fc0dcb00)\" style=\"fill: none; stroke: #ff7f0e; stroke-width: 0.5; stroke-linecap: round\"/>\n   </g>\n   <g id=\"line2d_15\">\n    <path d=\"M 33.940123 296.372742 \nL 55.657951 291.261385 \nL 77.350334 286.384171 \nL 99.018612 281.740016 \nL 120.664123 277.327895 \nL 142.286868 273.147092 \nL 163.888186 269.196654 \nL 185.469415 265.475683 \nL 207.031896 261.98334 \nL 228.576967 258.71884 \nL 250.105968 255.681457 \nL 271.618898 252.870688 \nL 293.117097 250.285876 \nL 314.601904 247.92642 \nL 336.074659 245.791776 \nL 357.536699 243.881457 \nL 378.989365 242.195028 \nL 400.432657 240.732198 \nL 421.869253 239.492533 \nL 443.299153 238.475825 \nL 464.723696 237.681823 \nL 486.144221 237.110331 \nL 507.562068 236.761209 \nL 528.977237 236.634373 \nL 536.140625 236.641547 \nL 536.140625 236.641547 \n\" clip-path=\"url(#p96fc0dcb00)\" style=\"fill: none; stroke: #2ca02c; stroke-width: 0.5; stroke-linecap: round\"/>\n   </g>\n   <g id=\"line2d_16\">\n    <path d=\"M 33.940123 292.164497 \nL 70.462822 281.808918 \nL 111.169186 270.503218 \nL 159.026885 257.450383 \nL 225.475377 239.579413 \nL 333.218142 210.60306 \nL 381.520456 197.362088 \nL 422.14245 186.000209 \nL 458.480339 175.609019 \nL 491.940285 165.812208 \nL 523.277596 156.407425 \nL 536.140625 152.476193 \nL 536.140625 152.476193 \n\" clip-path=\"url(#p96fc0dcb00)\" style=\"fill: none; stroke: #d62728; stroke-width: 0.5; stroke-linecap: round\"/>\n   </g>\n   <g id=\"line2d_17\">\n    <path d=\"M 33.940123 292.164496 \nL 65.214492 283.392778 \nL 97.099536 274.681168 \nL 129.484103 266.06387 \nL 162.230254 257.580547 \nL 195.174607 249.275467 \nL 228.139048 241.19432 \nL 260.941446 233.381314 \nL 293.410382 225.875591 \nL 325.394528 218.709269 \nL 356.770676 211.906018 \nL 387.446422 205.481026 \nL 417.360162 199.441618 \nL 446.474399 193.789215 \nL 474.775741 188.519857 \nL 502.266866 183.626232 \nL 528.963845 179.098534 \nL 536.140625 177.920796 \nL 536.140625 177.920796 \n\" clip-path=\"url(#p96fc0dcb00)\" style=\"fill: none; stroke: #9467bd; stroke-width: 0.5; stroke-linecap: round\"/>\n   </g>\n   <g id=\"line2d_18\">\n    <path d=\"M 33.940123 292.164496 \nL 65.214492 283.392778 \nL 97.099536 274.681168 \nL 129.484103 266.06387 \nL 162.230254 257.580547 \nL 195.174607 249.275467 \nL 228.139048 241.19432 \nL 260.941446 233.381314 \nL 293.410382 225.875591 \nL 325.394528 218.709269 \nL 356.770676 211.906018 \nL 387.446422 205.481026 \nL 417.360162 199.441618 \nL 446.474399 193.789215 \nL 474.775741 188.519857 \nL 502.266866 183.626232 \nL 528.963845 179.098534 \nL 536.140625 177.920796 \nL 536.140625 177.920796 \n\" clip-path=\"url(#p96fc0dcb00)\" style=\"fill: none; stroke: #8c564b; stroke-width: 0.5; stroke-linecap: round\"/>\n   </g>\n   <g id=\"patch_3\">\n    <path d=\"M 33.940625 339.84 \nL 33.940625 7.2 \n\" style=\"fill: none; stroke: #ffffff; stroke-width: 0.8; stroke-linejoin: miter; stroke-linecap: square\"/>\n   </g>\n   <g id=\"patch_4\">\n    <path d=\"M 536.140625 339.84 \nL 536.140625 7.2 \n\" style=\"fill: none; stroke: #ffffff; stroke-width: 0.8; stroke-linejoin: miter; stroke-linecap: square\"/>\n   </g>\n   <g id=\"patch_5\">\n    <path d=\"M 33.940625 339.84 \nL 536.140625 339.84 \n\" style=\"fill: none; stroke: #ffffff; stroke-width: 0.8; stroke-linejoin: miter; stroke-linecap: square\"/>\n   </g>\n   <g id=\"patch_6\">\n    <path d=\"M 33.940625 7.2 \nL 536.140625 7.2 \n\" style=\"fill: none; stroke: #ffffff; stroke-width: 0.8; stroke-linejoin: miter; stroke-linecap: square\"/>\n   </g>\n   <g id=\"legend_1\">\n    <g id=\"patch_7\">\n     <path d=\"M 40.940625 100.626563 \nL 114.040625 100.626563 \nQ 116.040625 100.626563 116.040625 98.626563 \nL 116.040625 14.2 \nQ 116.040625 12.2 114.040625 12.2 \nL 40.940625 12.2 \nQ 38.940625 12.2 38.940625 14.2 \nL 38.940625 98.626563 \nQ 38.940625 100.626563 40.940625 100.626563 \nz\n\" style=\"fill: #eaeaf2; opacity: 0.8; stroke: #cccccc; stroke-linejoin: miter\"/>\n    </g>\n    <g id=\"line2d_19\">\n     <path d=\"M 42.940625 20.3 \nL 52.940625 20.3 \nL 62.940625 20.3 \n\" style=\"fill: none; stroke: #1f77b4; stroke-width: 1.5; stroke-linecap: round\"/>\n    </g>\n    <g id=\"text_13\">\n     <!-- $y = \\ln(x)$ -->\n     <g style=\"fill: #262626\" transform=\"translate(70.940625 23.8) scale(0.1 -0.1)\">\n      <defs>\n       <path id=\"DejaVuSans-Oblique-79\" d=\"M 1588 -325 \nQ 1188 -997 936 -1164 \nQ 684 -1331 294 -1331 \nL -159 -1331 \nL -63 -850 \nL 269 -850 \nQ 509 -850 678 -719 \nQ 847 -588 1056 -206 \nL 1234 128 \nL 459 3500 \nL 1069 3500 \nL 1650 819 \nL 3256 3500 \nL 3859 3500 \nL 1588 -325 \nz\n\" transform=\"scale(0.015625)\"/>\n       <path id=\"DejaVuSans-3d\" d=\"M 678 2906 \nL 4684 2906 \nL 4684 2381 \nL 678 2381 \nL 678 2906 \nz\nM 678 1631 \nL 4684 1631 \nL 4684 1100 \nL 678 1100 \nL 678 1631 \nz\n\" transform=\"scale(0.015625)\"/>\n       <path id=\"DejaVuSans-6c\" d=\"M 603 4863 \nL 1178 4863 \nL 1178 0 \nL 603 0 \nL 603 4863 \nz\n\" transform=\"scale(0.015625)\"/>\n       <path id=\"DejaVuSans-6e\" d=\"M 3513 2113 \nL 3513 0 \nL 2938 0 \nL 2938 2094 \nQ 2938 2591 2744 2837 \nQ 2550 3084 2163 3084 \nQ 1697 3084 1428 2787 \nQ 1159 2491 1159 1978 \nL 1159 0 \nL 581 0 \nL 581 3500 \nL 1159 3500 \nL 1159 2956 \nQ 1366 3272 1645 3428 \nQ 1925 3584 2291 3584 \nQ 2894 3584 3203 3211 \nQ 3513 2838 3513 2113 \nz\n\" transform=\"scale(0.015625)\"/>\n       <path id=\"DejaVuSans-28\" d=\"M 1984 4856 \nQ 1566 4138 1362 3434 \nQ 1159 2731 1159 2009 \nQ 1159 1288 1364 580 \nQ 1569 -128 1984 -844 \nL 1484 -844 \nQ 1016 -109 783 600 \nQ 550 1309 550 2009 \nQ 550 2706 781 3412 \nQ 1013 4119 1484 4856 \nL 1984 4856 \nz\n\" transform=\"scale(0.015625)\"/>\n       <path id=\"DejaVuSans-Oblique-78\" d=\"M 3841 3500 \nL 2234 1784 \nL 3219 0 \nL 2559 0 \nL 1819 1388 \nL 531 0 \nL -166 0 \nL 1556 1844 \nL 641 3500 \nL 1300 3500 \nL 1972 2234 \nL 3144 3500 \nL 3841 3500 \nz\n\" transform=\"scale(0.015625)\"/>\n       <path id=\"DejaVuSans-29\" d=\"M 513 4856 \nL 1013 4856 \nQ 1481 4119 1714 3412 \nQ 1947 2706 1947 2009 \nQ 1947 1309 1714 600 \nQ 1481 -109 1013 -844 \nL 513 -844 \nQ 928 -128 1133 580 \nQ 1338 1288 1338 2009 \nQ 1338 2731 1133 3434 \nQ 928 4138 513 4856 \nz\n\" transform=\"scale(0.015625)\"/>\n      </defs>\n      <use xlink:href=\"#DejaVuSans-Oblique-79\" transform=\"translate(0 0.015625)\"/>\n      <use xlink:href=\"#DejaVuSans-3d\" transform=\"translate(78.662109 0.015625)\"/>\n      <use xlink:href=\"#DejaVuSans-6c\" transform=\"translate(181.933594 0.015625)\"/>\n      <use xlink:href=\"#DejaVuSans-6e\" transform=\"translate(209.716797 0.015625)\"/>\n      <use xlink:href=\"#DejaVuSans-28\" transform=\"translate(273.095703 0.015625)\"/>\n      <use xlink:href=\"#DejaVuSans-Oblique-78\" transform=\"translate(312.109375 0.015625)\"/>\n      <use xlink:href=\"#DejaVuSans-29\" transform=\"translate(371.289062 0.015625)\"/>\n     </g>\n    </g>\n    <g id=\"line2d_20\">\n     <path d=\"M 42.940625 34.557813 \nL 52.940625 34.557813 \nL 62.940625 34.557813 \n\" style=\"fill: none; stroke: #ff7f0e; stroke-width: 0.5; stroke-linecap: round\"/>\n    </g>\n    <g id=\"text_14\">\n     <!-- 1 -->\n     <g style=\"fill: #262626\" transform=\"translate(70.940625 38.057813) scale(0.1 -0.1)\">\n      <use xlink:href=\"#ArialMT-31\"/>\n     </g>\n    </g>\n    <g id=\"line2d_21\">\n     <path d=\"M 42.940625 48.703125 \nL 52.940625 48.703125 \nL 62.940625 48.703125 \n\" style=\"fill: none; stroke: #2ca02c; stroke-width: 0.5; stroke-linecap: round\"/>\n    </g>\n    <g id=\"text_15\">\n     <!-- 2 -->\n     <g style=\"fill: #262626\" transform=\"translate(70.940625 52.203125) scale(0.1 -0.1)\">\n      <use xlink:href=\"#ArialMT-32\"/>\n     </g>\n    </g>\n    <g id=\"line2d_22\">\n     <path d=\"M 42.940625 62.848437 \nL 52.940625 62.848437 \nL 62.940625 62.848437 \n\" style=\"fill: none; stroke: #d62728; stroke-width: 0.5; stroke-linecap: round\"/>\n    </g>\n    <g id=\"text_16\">\n     <!-- 3 -->\n     <g style=\"fill: #262626\" transform=\"translate(70.940625 66.348437) scale(0.1 -0.1)\">\n      <defs>\n       <path id=\"ArialMT-33\" d=\"M 269 1209 \nL 831 1284 \nQ 928 806 1161 595 \nQ 1394 384 1728 384 \nQ 2125 384 2398 659 \nQ 2672 934 2672 1341 \nQ 2672 1728 2419 1979 \nQ 2166 2231 1775 2231 \nQ 1616 2231 1378 2169 \nL 1441 2663 \nQ 1497 2656 1531 2656 \nQ 1891 2656 2178 2843 \nQ 2466 3031 2466 3422 \nQ 2466 3731 2256 3934 \nQ 2047 4138 1716 4138 \nQ 1388 4138 1169 3931 \nQ 950 3725 888 3313 \nL 325 3413 \nQ 428 3978 793 4289 \nQ 1159 4600 1703 4600 \nQ 2078 4600 2393 4439 \nQ 2709 4278 2876 4000 \nQ 3044 3722 3044 3409 \nQ 3044 3113 2884 2869 \nQ 2725 2625 2413 2481 \nQ 2819 2388 3044 2092 \nQ 3269 1797 3269 1353 \nQ 3269 753 2831 336 \nQ 2394 -81 1725 -81 \nQ 1122 -81 723 278 \nQ 325 638 269 1209 \nz\n\" transform=\"scale(0.015625)\"/>\n      </defs>\n      <use xlink:href=\"#ArialMT-33\"/>\n     </g>\n    </g>\n    <g id=\"line2d_23\">\n     <path d=\"M 42.940625 76.99375 \nL 52.940625 76.99375 \nL 62.940625 76.99375 \n\" style=\"fill: none; stroke: #9467bd; stroke-width: 0.5; stroke-linecap: round\"/>\n    </g>\n    <g id=\"text_17\">\n     <!-- 4 -->\n     <g style=\"fill: #262626\" transform=\"translate(70.940625 80.49375) scale(0.1 -0.1)\">\n      <use xlink:href=\"#ArialMT-34\"/>\n     </g>\n    </g>\n    <g id=\"line2d_24\">\n     <path d=\"M 42.940625 91.139063 \nL 52.940625 91.139063 \nL 62.940625 91.139063 \n\" style=\"fill: none; stroke: #8c564b; stroke-width: 0.5; stroke-linecap: round\"/>\n    </g>\n    <g id=\"text_18\">\n     <!-- 5 -->\n     <g style=\"fill: #262626\" transform=\"translate(70.940625 94.639063) scale(0.1 -0.1)\">\n      <use xlink:href=\"#ArialMT-35\"/>\n     </g>\n    </g>\n   </g>\n  </g>\n </g>\n <defs>\n  <clipPath id=\"p96fc0dcb00\">\n   <rect x=\"33.940625\" y=\"7.2\" width=\"502.2\" height=\"332.64\"/>\n  </clipPath>\n </defs>\n</svg>\n",
      "text/plain": [
       "<Figure size 900x600 with 1 Axes>"
      ]
     },
     "metadata": {},
     "output_type": "display_data"
    }
   ],
   "source": [
    "fig = plt.figure(figsize=(9, 6))\n",
    "plt.xlim(0.7, 1)\n",
    "plt.ylim(-0.50, 0.50)\n",
    "plt.plot(x, y, lw=1.5, label='$y = \\ln(x)$')\n",
    "plt.scatter(x3, y3, color='r', alpha=0.9, s=9)\n",
    "for i in range(2, 7):\n",
    "    func = np.poly1d(lagrange(x3[: i], y3[: i]))\n",
    "    plt.plot(x, func(x), lw=0.5, label=f'{i - 1}')\n",
    "plt.legend()\n",
    "plt.grid('--')\n",
    "# plt.savefig(r'smg1.svg', dpi=300)"
   ]
  },
  {
   "cell_type": "code",
   "execution_count": 25,
   "metadata": {},
   "outputs": [
    {
     "data": {
      "image/svg+xml": "<?xml version=\"1.0\" encoding=\"utf-8\" standalone=\"no\"?>\n<!DOCTYPE svg PUBLIC \"-//W3C//DTD SVG 1.1//EN\"\n  \"http://www.w3.org/Graphics/SVG/1.1/DTD/svg11.dtd\">\n<svg xmlns:xlink=\"http://www.w3.org/1999/xlink\" width=\"555.851563pt\" height=\"363.185313pt\" viewBox=\"0 0 555.851563 363.185313\" xmlns=\"http://www.w3.org/2000/svg\" version=\"1.1\">\n <metadata>\n  <rdf:RDF xmlns:dc=\"http://purl.org/dc/elements/1.1/\" xmlns:cc=\"http://creativecommons.org/ns#\" xmlns:rdf=\"http://www.w3.org/1999/02/22-rdf-syntax-ns#\">\n   <cc:Work>\n    <dc:type rdf:resource=\"http://purl.org/dc/dcmitype/StillImage\"/>\n    <dc:date>2023-03-23T20:37:27.814535</dc:date>\n    <dc:format>image/svg+xml</dc:format>\n    <dc:creator>\n     <cc:Agent>\n      <dc:title>Matplotlib v3.7.1, https://matplotlib.org/</dc:title>\n     </cc:Agent>\n    </dc:creator>\n   </cc:Work>\n  </rdf:RDF>\n </metadata>\n <defs>\n  <style type=\"text/css\">*{stroke-linejoin: round; stroke-linecap: butt}</style>\n </defs>\n <g id=\"figure_1\">\n  <g id=\"patch_1\">\n   <path d=\"M 0 363.185313 \nL 555.851563 363.185313 \nL 555.851563 0 \nL 0 0 \nz\n\" style=\"fill: #ffffff\"/>\n  </g>\n  <g id=\"axes_1\">\n   <g id=\"patch_2\">\n    <path d=\"M 39.501563 339.84 \nL 541.701563 339.84 \nL 541.701563 7.2 \nL 39.501563 7.2 \nz\n\" style=\"fill: #eaeaf2\"/>\n   </g>\n   <g id=\"matplotlib.axis_1\">\n    <g id=\"xtick_1\">\n     <g id=\"line2d_1\">\n      <path d=\"M 39.501563 339.84 \nL 39.501563 7.2 \n\" clip-path=\"url(#p7c761753b9)\" style=\"fill: none; stroke: #ffffff; stroke-width: 0.8; stroke-linecap: round\"/>\n     </g>\n     <g id=\"text_1\">\n      <!-- 0.3 -->\n      <g style=\"fill: #262626\" transform=\"translate(32.551563 353.997813) scale(0.1 -0.1)\">\n       <defs>\n        <path id=\"ArialMT-30\" d=\"M 266 2259 \nQ 266 3072 433 3567 \nQ 600 4063 929 4331 \nQ 1259 4600 1759 4600 \nQ 2128 4600 2406 4451 \nQ 2684 4303 2865 4023 \nQ 3047 3744 3150 3342 \nQ 3253 2941 3253 2259 \nQ 3253 1453 3087 958 \nQ 2922 463 2592 192 \nQ 2263 -78 1759 -78 \nQ 1097 -78 719 397 \nQ 266 969 266 2259 \nz\nM 844 2259 \nQ 844 1131 1108 757 \nQ 1372 384 1759 384 \nQ 2147 384 2411 759 \nQ 2675 1134 2675 2259 \nQ 2675 3391 2411 3762 \nQ 2147 4134 1753 4134 \nQ 1366 4134 1134 3806 \nQ 844 3388 844 2259 \nz\n\" transform=\"scale(0.015625)\"/>\n        <path id=\"ArialMT-2e\" d=\"M 581 0 \nL 581 641 \nL 1222 641 \nL 1222 0 \nL 581 0 \nz\n\" transform=\"scale(0.015625)\"/>\n        <path id=\"ArialMT-33\" d=\"M 269 1209 \nL 831 1284 \nQ 928 806 1161 595 \nQ 1394 384 1728 384 \nQ 2125 384 2398 659 \nQ 2672 934 2672 1341 \nQ 2672 1728 2419 1979 \nQ 2166 2231 1775 2231 \nQ 1616 2231 1378 2169 \nL 1441 2663 \nQ 1497 2656 1531 2656 \nQ 1891 2656 2178 2843 \nQ 2466 3031 2466 3422 \nQ 2466 3731 2256 3934 \nQ 2047 4138 1716 4138 \nQ 1388 4138 1169 3931 \nQ 950 3725 888 3313 \nL 325 3413 \nQ 428 3978 793 4289 \nQ 1159 4600 1703 4600 \nQ 2078 4600 2393 4439 \nQ 2709 4278 2876 4000 \nQ 3044 3722 3044 3409 \nQ 3044 3113 2884 2869 \nQ 2725 2625 2413 2481 \nQ 2819 2388 3044 2092 \nQ 3269 1797 3269 1353 \nQ 3269 753 2831 336 \nQ 2394 -81 1725 -81 \nQ 1122 -81 723 278 \nQ 325 638 269 1209 \nz\n\" transform=\"scale(0.015625)\"/>\n       </defs>\n       <use xlink:href=\"#ArialMT-30\"/>\n       <use xlink:href=\"#ArialMT-2e\" x=\"55.615234\"/>\n       <use xlink:href=\"#ArialMT-33\" x=\"83.398438\"/>\n      </g>\n     </g>\n    </g>\n    <g id=\"xtick_2\">\n     <g id=\"line2d_2\">\n      <path d=\"M 111.24442 339.84 \nL 111.24442 7.2 \n\" clip-path=\"url(#p7c761753b9)\" style=\"fill: none; stroke: #ffffff; stroke-width: 0.8; stroke-linecap: round\"/>\n     </g>\n     <g id=\"text_2\">\n      <!-- 0.4 -->\n      <g style=\"fill: #262626\" transform=\"translate(104.29442 353.997813) scale(0.1 -0.1)\">\n       <defs>\n        <path id=\"ArialMT-34\" d=\"M 2069 0 \nL 2069 1097 \nL 81 1097 \nL 81 1613 \nL 2172 4581 \nL 2631 4581 \nL 2631 1613 \nL 3250 1613 \nL 3250 1097 \nL 2631 1097 \nL 2631 0 \nL 2069 0 \nz\nM 2069 1613 \nL 2069 3678 \nL 634 1613 \nL 2069 1613 \nz\n\" transform=\"scale(0.015625)\"/>\n       </defs>\n       <use xlink:href=\"#ArialMT-30\"/>\n       <use xlink:href=\"#ArialMT-2e\" x=\"55.615234\"/>\n       <use xlink:href=\"#ArialMT-34\" x=\"83.398438\"/>\n      </g>\n     </g>\n    </g>\n    <g id=\"xtick_3\">\n     <g id=\"line2d_3\">\n      <path d=\"M 182.987277 339.84 \nL 182.987277 7.2 \n\" clip-path=\"url(#p7c761753b9)\" style=\"fill: none; stroke: #ffffff; stroke-width: 0.8; stroke-linecap: round\"/>\n     </g>\n     <g id=\"text_3\">\n      <!-- 0.5 -->\n      <g style=\"fill: #262626\" transform=\"translate(176.037277 353.997813) scale(0.1 -0.1)\">\n       <defs>\n        <path id=\"ArialMT-35\" d=\"M 266 1200 \nL 856 1250 \nQ 922 819 1161 601 \nQ 1400 384 1738 384 \nQ 2144 384 2425 690 \nQ 2706 997 2706 1503 \nQ 2706 1984 2436 2262 \nQ 2166 2541 1728 2541 \nQ 1456 2541 1237 2417 \nQ 1019 2294 894 2097 \nL 366 2166 \nL 809 4519 \nL 3088 4519 \nL 3088 3981 \nL 1259 3981 \nL 1013 2750 \nQ 1425 3038 1878 3038 \nQ 2478 3038 2890 2622 \nQ 3303 2206 3303 1553 \nQ 3303 931 2941 478 \nQ 2500 -78 1738 -78 \nQ 1113 -78 717 272 \nQ 322 622 266 1200 \nz\n\" transform=\"scale(0.015625)\"/>\n       </defs>\n       <use xlink:href=\"#ArialMT-30\"/>\n       <use xlink:href=\"#ArialMT-2e\" x=\"55.615234\"/>\n       <use xlink:href=\"#ArialMT-35\" x=\"83.398438\"/>\n      </g>\n     </g>\n    </g>\n    <g id=\"xtick_4\">\n     <g id=\"line2d_4\">\n      <path d=\"M 254.730134 339.84 \nL 254.730134 7.2 \n\" clip-path=\"url(#p7c761753b9)\" style=\"fill: none; stroke: #ffffff; stroke-width: 0.8; stroke-linecap: round\"/>\n     </g>\n     <g id=\"text_4\">\n      <!-- 0.6 -->\n      <g style=\"fill: #262626\" transform=\"translate(247.780134 353.997813) scale(0.1 -0.1)\">\n       <defs>\n        <path id=\"ArialMT-36\" d=\"M 3184 3459 \nL 2625 3416 \nQ 2550 3747 2413 3897 \nQ 2184 4138 1850 4138 \nQ 1581 4138 1378 3988 \nQ 1113 3794 959 3422 \nQ 806 3050 800 2363 \nQ 1003 2672 1297 2822 \nQ 1591 2972 1913 2972 \nQ 2475 2972 2870 2558 \nQ 3266 2144 3266 1488 \nQ 3266 1056 3080 686 \nQ 2894 316 2569 119 \nQ 2244 -78 1831 -78 \nQ 1128 -78 684 439 \nQ 241 956 241 2144 \nQ 241 3472 731 4075 \nQ 1159 4600 1884 4600 \nQ 2425 4600 2770 4297 \nQ 3116 3994 3184 3459 \nz\nM 888 1484 \nQ 888 1194 1011 928 \nQ 1134 663 1356 523 \nQ 1578 384 1822 384 \nQ 2178 384 2434 671 \nQ 2691 959 2691 1453 \nQ 2691 1928 2437 2201 \nQ 2184 2475 1800 2475 \nQ 1419 2475 1153 2201 \nQ 888 1928 888 1484 \nz\n\" transform=\"scale(0.015625)\"/>\n       </defs>\n       <use xlink:href=\"#ArialMT-30\"/>\n       <use xlink:href=\"#ArialMT-2e\" x=\"55.615234\"/>\n       <use xlink:href=\"#ArialMT-36\" x=\"83.398438\"/>\n      </g>\n     </g>\n    </g>\n    <g id=\"xtick_5\">\n     <g id=\"line2d_5\">\n      <path d=\"M 326.472991 339.84 \nL 326.472991 7.2 \n\" clip-path=\"url(#p7c761753b9)\" style=\"fill: none; stroke: #ffffff; stroke-width: 0.8; stroke-linecap: round\"/>\n     </g>\n     <g id=\"text_5\">\n      <!-- 0.7 -->\n      <g style=\"fill: #262626\" transform=\"translate(319.522991 353.997813) scale(0.1 -0.1)\">\n       <defs>\n        <path id=\"ArialMT-37\" d=\"M 303 3981 \nL 303 4522 \nL 3269 4522 \nL 3269 4084 \nQ 2831 3619 2401 2847 \nQ 1972 2075 1738 1259 \nQ 1569 684 1522 0 \nL 944 0 \nQ 953 541 1156 1306 \nQ 1359 2072 1739 2783 \nQ 2119 3494 2547 3981 \nL 303 3981 \nz\n\" transform=\"scale(0.015625)\"/>\n       </defs>\n       <use xlink:href=\"#ArialMT-30\"/>\n       <use xlink:href=\"#ArialMT-2e\" x=\"55.615234\"/>\n       <use xlink:href=\"#ArialMT-37\" x=\"83.398438\"/>\n      </g>\n     </g>\n    </g>\n    <g id=\"xtick_6\">\n     <g id=\"line2d_6\">\n      <path d=\"M 398.215848 339.84 \nL 398.215848 7.2 \n\" clip-path=\"url(#p7c761753b9)\" style=\"fill: none; stroke: #ffffff; stroke-width: 0.8; stroke-linecap: round\"/>\n     </g>\n     <g id=\"text_6\">\n      <!-- 0.8 -->\n      <g style=\"fill: #262626\" transform=\"translate(391.265848 353.997813) scale(0.1 -0.1)\">\n       <defs>\n        <path id=\"ArialMT-38\" d=\"M 1131 2484 \nQ 781 2613 612 2850 \nQ 444 3088 444 3419 \nQ 444 3919 803 4259 \nQ 1163 4600 1759 4600 \nQ 2359 4600 2725 4251 \nQ 3091 3903 3091 3403 \nQ 3091 3084 2923 2848 \nQ 2756 2613 2416 2484 \nQ 2838 2347 3058 2040 \nQ 3278 1734 3278 1309 \nQ 3278 722 2862 322 \nQ 2447 -78 1769 -78 \nQ 1091 -78 675 323 \nQ 259 725 259 1325 \nQ 259 1772 486 2073 \nQ 713 2375 1131 2484 \nz\nM 1019 3438 \nQ 1019 3113 1228 2906 \nQ 1438 2700 1772 2700 \nQ 2097 2700 2305 2904 \nQ 2513 3109 2513 3406 \nQ 2513 3716 2298 3927 \nQ 2084 4138 1766 4138 \nQ 1444 4138 1231 3931 \nQ 1019 3725 1019 3438 \nz\nM 838 1322 \nQ 838 1081 952 856 \nQ 1066 631 1291 507 \nQ 1516 384 1775 384 \nQ 2178 384 2440 643 \nQ 2703 903 2703 1303 \nQ 2703 1709 2433 1975 \nQ 2163 2241 1756 2241 \nQ 1359 2241 1098 1978 \nQ 838 1716 838 1322 \nz\n\" transform=\"scale(0.015625)\"/>\n       </defs>\n       <use xlink:href=\"#ArialMT-30\"/>\n       <use xlink:href=\"#ArialMT-2e\" x=\"55.615234\"/>\n       <use xlink:href=\"#ArialMT-38\" x=\"83.398438\"/>\n      </g>\n     </g>\n    </g>\n    <g id=\"xtick_7\">\n     <g id=\"line2d_7\">\n      <path d=\"M 469.958705 339.84 \nL 469.958705 7.2 \n\" clip-path=\"url(#p7c761753b9)\" style=\"fill: none; stroke: #ffffff; stroke-width: 0.8; stroke-linecap: round\"/>\n     </g>\n     <g id=\"text_7\">\n      <!-- 0.9 -->\n      <g style=\"fill: #262626\" transform=\"translate(463.008705 353.997813) scale(0.1 -0.1)\">\n       <defs>\n        <path id=\"ArialMT-39\" d=\"M 350 1059 \nL 891 1109 \nQ 959 728 1153 556 \nQ 1347 384 1650 384 \nQ 1909 384 2104 503 \nQ 2300 622 2425 820 \nQ 2550 1019 2634 1356 \nQ 2719 1694 2719 2044 \nQ 2719 2081 2716 2156 \nQ 2547 1888 2255 1720 \nQ 1963 1553 1622 1553 \nQ 1053 1553 659 1965 \nQ 266 2378 266 3053 \nQ 266 3750 677 4175 \nQ 1088 4600 1706 4600 \nQ 2153 4600 2523 4359 \nQ 2894 4119 3086 3673 \nQ 3278 3228 3278 2384 \nQ 3278 1506 3087 986 \nQ 2897 466 2520 194 \nQ 2144 -78 1638 -78 \nQ 1100 -78 759 220 \nQ 419 519 350 1059 \nz\nM 2653 3081 \nQ 2653 3566 2395 3850 \nQ 2138 4134 1775 4134 \nQ 1400 4134 1122 3828 \nQ 844 3522 844 3034 \nQ 844 2597 1108 2323 \nQ 1372 2050 1759 2050 \nQ 2150 2050 2401 2323 \nQ 2653 2597 2653 3081 \nz\n\" transform=\"scale(0.015625)\"/>\n       </defs>\n       <use xlink:href=\"#ArialMT-30\"/>\n       <use xlink:href=\"#ArialMT-2e\" x=\"55.615234\"/>\n       <use xlink:href=\"#ArialMT-39\" x=\"83.398438\"/>\n      </g>\n     </g>\n    </g>\n    <g id=\"xtick_8\">\n     <g id=\"line2d_8\">\n      <path d=\"M 541.701563 339.84 \nL 541.701563 7.2 \n\" clip-path=\"url(#p7c761753b9)\" style=\"fill: none; stroke: #ffffff; stroke-width: 0.8; stroke-linecap: round\"/>\n     </g>\n     <g id=\"text_8\">\n      <!-- 1.0 -->\n      <g style=\"fill: #262626\" transform=\"translate(534.751563 353.997813) scale(0.1 -0.1)\">\n       <defs>\n        <path id=\"ArialMT-31\" d=\"M 2384 0 \nL 1822 0 \nL 1822 3584 \nQ 1619 3391 1289 3197 \nQ 959 3003 697 2906 \nL 697 3450 \nQ 1169 3672 1522 3987 \nQ 1875 4303 2022 4600 \nL 2384 4600 \nL 2384 0 \nz\n\" transform=\"scale(0.015625)\"/>\n       </defs>\n       <use xlink:href=\"#ArialMT-31\"/>\n       <use xlink:href=\"#ArialMT-2e\" x=\"55.615234\"/>\n       <use xlink:href=\"#ArialMT-30\" x=\"83.398438\"/>\n      </g>\n     </g>\n    </g>\n   </g>\n   <g id=\"matplotlib.axis_2\">\n    <g id=\"ytick_1\">\n     <g id=\"line2d_9\">\n      <path d=\"M 39.501563 308.433639 \nL 541.701563 308.433639 \n\" clip-path=\"url(#p7c761753b9)\" style=\"fill: none; stroke: #ffffff; stroke-width: 0.8; stroke-linecap: round\"/>\n     </g>\n     <g id=\"text_9\">\n      <!-- −1.50 -->\n      <g style=\"fill: #262626\" transform=\"translate(7.2 312.012545) scale(0.1 -0.1)\">\n       <defs>\n        <path id=\"ArialMT-2212\" d=\"M 3381 1997 \nL 356 1997 \nL 356 2522 \nL 3381 2522 \nL 3381 1997 \nz\n\" transform=\"scale(0.015625)\"/>\n       </defs>\n       <use xlink:href=\"#ArialMT-2212\"/>\n       <use xlink:href=\"#ArialMT-31\" x=\"58.398438\"/>\n       <use xlink:href=\"#ArialMT-2e\" x=\"114.013672\"/>\n       <use xlink:href=\"#ArialMT-35\" x=\"141.796875\"/>\n       <use xlink:href=\"#ArialMT-30\" x=\"197.412109\"/>\n      </g>\n     </g>\n    </g>\n    <g id=\"ytick_2\">\n     <g id=\"line2d_10\">\n      <path d=\"M 39.501563 271.22907 \nL 541.701563 271.22907 \n\" clip-path=\"url(#p7c761753b9)\" style=\"fill: none; stroke: #ffffff; stroke-width: 0.8; stroke-linecap: round\"/>\n     </g>\n     <g id=\"text_10\">\n      <!-- −1.25 -->\n      <g style=\"fill: #262626\" transform=\"translate(7.2 274.807976) scale(0.1 -0.1)\">\n       <defs>\n        <path id=\"ArialMT-32\" d=\"M 3222 541 \nL 3222 0 \nL 194 0 \nQ 188 203 259 391 \nQ 375 700 629 1000 \nQ 884 1300 1366 1694 \nQ 2113 2306 2375 2664 \nQ 2638 3022 2638 3341 \nQ 2638 3675 2398 3904 \nQ 2159 4134 1775 4134 \nQ 1369 4134 1125 3890 \nQ 881 3647 878 3216 \nL 300 3275 \nQ 359 3922 746 4261 \nQ 1134 4600 1788 4600 \nQ 2447 4600 2831 4234 \nQ 3216 3869 3216 3328 \nQ 3216 3053 3103 2787 \nQ 2991 2522 2730 2228 \nQ 2469 1934 1863 1422 \nQ 1356 997 1212 845 \nQ 1069 694 975 541 \nL 3222 541 \nz\n\" transform=\"scale(0.015625)\"/>\n       </defs>\n       <use xlink:href=\"#ArialMT-2212\"/>\n       <use xlink:href=\"#ArialMT-31\" x=\"58.398438\"/>\n       <use xlink:href=\"#ArialMT-2e\" x=\"114.013672\"/>\n       <use xlink:href=\"#ArialMT-32\" x=\"141.796875\"/>\n       <use xlink:href=\"#ArialMT-35\" x=\"197.412109\"/>\n      </g>\n     </g>\n    </g>\n    <g id=\"ytick_3\">\n     <g id=\"line2d_11\">\n      <path d=\"M 39.501563 234.024501 \nL 541.701563 234.024501 \n\" clip-path=\"url(#p7c761753b9)\" style=\"fill: none; stroke: #ffffff; stroke-width: 0.8; stroke-linecap: round\"/>\n     </g>\n     <g id=\"text_11\">\n      <!-- −1.00 -->\n      <g style=\"fill: #262626\" transform=\"translate(7.2 237.603407) scale(0.1 -0.1)\">\n       <use xlink:href=\"#ArialMT-2212\"/>\n       <use xlink:href=\"#ArialMT-31\" x=\"58.398438\"/>\n       <use xlink:href=\"#ArialMT-2e\" x=\"114.013672\"/>\n       <use xlink:href=\"#ArialMT-30\" x=\"141.796875\"/>\n       <use xlink:href=\"#ArialMT-30\" x=\"197.412109\"/>\n      </g>\n     </g>\n    </g>\n    <g id=\"ytick_4\">\n     <g id=\"line2d_12\">\n      <path d=\"M 39.501563 196.819932 \nL 541.701563 196.819932 \n\" clip-path=\"url(#p7c761753b9)\" style=\"fill: none; stroke: #ffffff; stroke-width: 0.8; stroke-linecap: round\"/>\n     </g>\n     <g id=\"text_12\">\n      <!-- −0.75 -->\n      <g style=\"fill: #262626\" transform=\"translate(7.2 200.398838) scale(0.1 -0.1)\">\n       <use xlink:href=\"#ArialMT-2212\"/>\n       <use xlink:href=\"#ArialMT-30\" x=\"58.398438\"/>\n       <use xlink:href=\"#ArialMT-2e\" x=\"114.013672\"/>\n       <use xlink:href=\"#ArialMT-37\" x=\"141.796875\"/>\n       <use xlink:href=\"#ArialMT-35\" x=\"197.412109\"/>\n      </g>\n     </g>\n    </g>\n    <g id=\"ytick_5\">\n     <g id=\"line2d_13\">\n      <path d=\"M 39.501563 159.615363 \nL 541.701563 159.615363 \n\" clip-path=\"url(#p7c761753b9)\" style=\"fill: none; stroke: #ffffff; stroke-width: 0.8; stroke-linecap: round\"/>\n     </g>\n     <g id=\"text_13\">\n      <!-- −0.50 -->\n      <g style=\"fill: #262626\" transform=\"translate(7.2 163.194269) scale(0.1 -0.1)\">\n       <use xlink:href=\"#ArialMT-2212\"/>\n       <use xlink:href=\"#ArialMT-30\" x=\"58.398438\"/>\n       <use xlink:href=\"#ArialMT-2e\" x=\"114.013672\"/>\n       <use xlink:href=\"#ArialMT-35\" x=\"141.796875\"/>\n       <use xlink:href=\"#ArialMT-30\" x=\"197.412109\"/>\n      </g>\n     </g>\n    </g>\n    <g id=\"ytick_6\">\n     <g id=\"line2d_14\">\n      <path d=\"M 39.501563 122.410794 \nL 541.701563 122.410794 \n\" clip-path=\"url(#p7c761753b9)\" style=\"fill: none; stroke: #ffffff; stroke-width: 0.8; stroke-linecap: round\"/>\n     </g>\n     <g id=\"text_14\">\n      <!-- −0.25 -->\n      <g style=\"fill: #262626\" transform=\"translate(7.2 125.9897) scale(0.1 -0.1)\">\n       <use xlink:href=\"#ArialMT-2212\"/>\n       <use xlink:href=\"#ArialMT-30\" x=\"58.398438\"/>\n       <use xlink:href=\"#ArialMT-2e\" x=\"114.013672\"/>\n       <use xlink:href=\"#ArialMT-32\" x=\"141.796875\"/>\n       <use xlink:href=\"#ArialMT-35\" x=\"197.412109\"/>\n      </g>\n     </g>\n    </g>\n    <g id=\"ytick_7\">\n     <g id=\"line2d_15\">\n      <path d=\"M 39.501563 85.206225 \nL 541.701563 85.206225 \n\" clip-path=\"url(#p7c761753b9)\" style=\"fill: none; stroke: #ffffff; stroke-width: 0.8; stroke-linecap: round\"/>\n     </g>\n     <g id=\"text_15\">\n      <!-- 0.00 -->\n      <g style=\"fill: #262626\" transform=\"translate(13.040625 88.785131) scale(0.1 -0.1)\">\n       <use xlink:href=\"#ArialMT-30\"/>\n       <use xlink:href=\"#ArialMT-2e\" x=\"55.615234\"/>\n       <use xlink:href=\"#ArialMT-30\" x=\"83.398438\"/>\n       <use xlink:href=\"#ArialMT-30\" x=\"139.013672\"/>\n      </g>\n     </g>\n    </g>\n    <g id=\"ytick_8\">\n     <g id=\"line2d_16\">\n      <path d=\"M 39.501563 48.001656 \nL 541.701563 48.001656 \n\" clip-path=\"url(#p7c761753b9)\" style=\"fill: none; stroke: #ffffff; stroke-width: 0.8; stroke-linecap: round\"/>\n     </g>\n     <g id=\"text_16\">\n      <!-- 0.25 -->\n      <g style=\"fill: #262626\" transform=\"translate(13.040625 51.580562) scale(0.1 -0.1)\">\n       <use xlink:href=\"#ArialMT-30\"/>\n       <use xlink:href=\"#ArialMT-2e\" x=\"55.615234\"/>\n       <use xlink:href=\"#ArialMT-32\" x=\"83.398438\"/>\n       <use xlink:href=\"#ArialMT-35\" x=\"139.013672\"/>\n      </g>\n     </g>\n    </g>\n    <g id=\"ytick_9\">\n     <g id=\"line2d_17\">\n      <path d=\"M 39.501563 10.797087 \nL 541.701563 10.797087 \n\" clip-path=\"url(#p7c761753b9)\" style=\"fill: none; stroke: #ffffff; stroke-width: 0.8; stroke-linecap: round\"/>\n     </g>\n     <g id=\"text_17\">\n      <!-- 0.50 -->\n      <g style=\"fill: #262626\" transform=\"translate(13.040625 14.375993) scale(0.1 -0.1)\">\n       <use xlink:href=\"#ArialMT-30\"/>\n       <use xlink:href=\"#ArialMT-2e\" x=\"55.615234\"/>\n       <use xlink:href=\"#ArialMT-35\" x=\"83.398438\"/>\n       <use xlink:href=\"#ArialMT-30\" x=\"139.013672\"/>\n      </g>\n     </g>\n    </g>\n   </g>\n   <g id=\"PathCollection_1\">\n    <defs>\n     <path id=\"me29e8c7e07\" d=\"M 0 1.5 \nC 0.397805 1.5 0.77937 1.341951 1.06066 1.06066 \nC 1.341951 0.77937 1.5 0.397805 1.5 0 \nC 1.5 -0.397805 1.341951 -0.77937 1.06066 -1.06066 \nC 0.77937 -1.341951 0.397805 -1.5 0 -1.5 \nC -0.397805 -1.5 -0.77937 -1.341951 -1.06066 -1.06066 \nC -1.341951 -0.77937 -1.5 -0.397805 -1.5 0 \nC -1.5 0.397805 -1.341951 0.77937 -1.06066 1.06066 \nC -0.77937 1.341951 -0.397805 1.5 0 1.5 \nz\n\" style=\"stroke: #ff0000; stroke-opacity: 0.9\"/>\n    </defs>\n    <g clip-path=\"url(#p7c761753b9)\">\n     <use xlink:href=\"#me29e8c7e07\" x=\"111.24442\" y=\"221.567032\" style=\"fill: #ff0000; fill-opacity: 0.9; stroke: #ff0000; stroke-opacity: 0.9\"/>\n     <use xlink:href=\"#me29e8c7e07\" x=\"182.987277\" y=\"188.359193\" style=\"fill: #ff0000; fill-opacity: 0.9; stroke: #ff0000; stroke-opacity: 0.9\"/>\n     <use xlink:href=\"#me29e8c7e07\" x=\"254.730134\" y=\"161.226413\" style=\"fill: #ff0000; fill-opacity: 0.9; stroke: #ff0000; stroke-opacity: 0.9\"/>\n     <use xlink:href=\"#me29e8c7e07\" x=\"326.472991\" y=\"138.285975\" style=\"fill: #ff0000; fill-opacity: 0.9; stroke: #ff0000; stroke-opacity: 0.9\"/>\n     <use xlink:href=\"#me29e8c7e07\" x=\"398.215848\" y=\"118.414063\" style=\"fill: #ff0000; fill-opacity: 0.9; stroke: #ff0000; stroke-opacity: 0.9\"/>\n    </g>\n   </g>\n   <g id=\"line2d_18\">\n    <path d=\"M 39.50106 264.379729 \nL 48.802388 258.083468 \nL 58.440046 251.828914 \nL 68.428383 245.612759 \nL 78.781175 239.432616 \nL 89.513343 233.285914 \nL 100.640384 227.170269 \nL 112.178369 221.083488 \nL 124.143942 215.023558 \nL 136.554894 208.988367 \nL 149.428446 202.976544 \nL 162.783535 196.986333 \nL 176.639678 191.016173 \nL 191.017535 185.064456 \nL 205.937768 179.130009 \nL 221.422188 173.211604 \nL 237.493178 167.308196 \nL 254.174844 161.418513 \nL 271.491291 155.541693 \nL 289.468347 149.676676 \nL 308.13184 143.822791 \nL 327.509318 137.979194 \nL 347.629479 132.145077 \nL 368.522167 126.319685 \nL 390.217803 120.50247 \nL 412.747952 114.692931 \nL 436.146478 108.890333 \nL 460.447243 103.094313 \nL 485.686405 97.304303 \nL 511.901272 91.519838 \nL 539.130296 85.740548 \nL 541.701563 85.206225 \nL 541.701563 85.206225 \n\" clip-path=\"url(#p7c761753b9)\" style=\"fill: none; stroke: #1f77b4; stroke-width: 1.5; stroke-linecap: round\"/>\n   </g>\n   <g id=\"line2d_19\">\n    <path d=\"M 39.50106 254.775103 \nL 541.701563 22.32 \nL 541.701563 22.32 \n\" clip-path=\"url(#p7c761753b9)\" style=\"fill: none; stroke: #ff7f0e; stroke-width: 0.5; stroke-linecap: round\"/>\n   </g>\n   <g id=\"line2d_20\">\n    <path d=\"M 39.50106 260.850225 \nL 54.285843 252.257815 \nL 69.014953 243.954307 \nL 83.688965 235.936487 \nL 98.3096 228.200598 \nL 112.87858 220.74301 \nL 127.396479 213.560778 \nL 141.865019 206.650469 \nL 156.285922 200.008776 \nL 170.660335 193.632766 \nL 184.989407 187.519595 \nL 199.274859 181.66627 \nL 213.518413 176.069922 \nL 227.721217 170.728017 \nL 241.884419 165.638103 \nL 256.010315 160.797424 \nL 270.100052 156.203752 \nL 284.155353 151.854763 \nL 298.177939 147.748254 \nL 312.168958 143.882292 \nL 326.130706 140.254736 \nL 340.06433 136.863869 \nL 353.971554 133.707927 \nL 367.854097 130.785262 \nL 381.713683 128.094339 \nL 395.552033 125.633741 \nL 409.370869 123.402163 \nL 423.171913 121.398413 \nL 436.95746 119.621346 \nL 450.728659 118.070084 \nL 464.487231 116.743776 \nL 478.235472 115.641642 \nL 491.97453 114.763114 \nL 505.7067 114.107655 \nL 519.433705 113.674889 \nL 533.156693 113.464558 \nL 541.701563 113.445883 \nL 541.701563 113.445883 \n\" clip-path=\"url(#p7c761753b9)\" style=\"fill: none; stroke: #2ca02c; stroke-width: 0.5; stroke-linecap: round\"/>\n   </g>\n   <g id=\"line2d_21\">\n    <path d=\"M 39.50106 262.732967 \nL 51.305355 255.333598 \nL 63.242804 248.11313 \nL 75.326035 241.064341 \nL 87.569397 234.179613 \nL 99.988959 227.451031 \nL 112.601939 220.870744 \nL 125.428427 214.430124 \nL 138.491954 208.119636 \nL 151.81892 201.929265 \nL 165.440319 195.847834 \nL 179.392884 189.8627 \nL 193.720808 183.959264 \nL 208.478042 178.120344 \nL 223.731162 172.325422 \nL 239.566262 166.548542 \nL 256.095832 160.756547 \nL 273.474265 154.904615 \nL 291.923103 148.929241 \nL 311.783842 142.733379 \nL 333.641903 136.151617 \nL 358.682481 128.850404 \nL 390.341201 119.864758 \nL 479.755848 94.621299 \nL 504.59612 87.291895 \nL 526.220012 80.683455 \nL 541.701563 75.791533 \nL 541.701563 75.791533 \n\" clip-path=\"url(#p7c761753b9)\" style=\"fill: none; stroke: #d62728; stroke-width: 0.5; stroke-linecap: round\"/>\n   </g>\n   <g id=\"line2d_22\">\n    <path d=\"M 39.50106 263.491881 \nL 50.247577 256.531872 \nL 61.193252 249.707999 \nL 72.354156 243.012245 \nL 83.748081 236.436338 \nL 95.394541 229.971831 \nL 107.314772 223.610168 \nL 119.532306 217.342445 \nL 132.073544 211.159226 \nL 144.966035 205.051469 \nL 158.241921 199.008938 \nL 171.935637 193.02143 \nL 186.085065 187.078322 \nL 200.732101 181.16845 \nL 215.920366 175.281124 \nL 231.696349 169.405676 \nL 248.107688 163.532159 \nL 265.198575 157.65292 \nL 283.006318 151.763554 \nL 301.552152 145.865572 \nL 320.830338 139.969193 \nL 340.793238 134.096886 \nL 361.337544 128.285995 \nL 382.29681 122.589081 \nL 403.446625 117.070604 \nL 424.530437 111.798482 \nL 445.297432 106.833683 \nL 465.539269 102.221612 \nL 485.110166 97.988789 \nL 503.92805 94.144507 \nL 521.963648 90.685105 \nL 539.224997 87.598734 \nL 541.701563 87.175077 \nL 541.701563 87.175077 \n\" clip-path=\"url(#p7c761753b9)\" style=\"fill: none; stroke: #9467bd; stroke-width: 0.5; stroke-linecap: round\"/>\n   </g>\n   <g id=\"line2d_23\">\n    <path d=\"M 39.50106 263.491881 \nL 50.247577 256.531872 \nL 61.193252 249.707999 \nL 72.354156 243.012245 \nL 83.748081 236.436338 \nL 95.394541 229.971831 \nL 107.314772 223.610168 \nL 119.532306 217.342445 \nL 132.073544 211.159226 \nL 144.966035 205.051469 \nL 158.241921 199.008938 \nL 171.935637 193.02143 \nL 186.085065 187.078322 \nL 200.732101 181.16845 \nL 215.920366 175.281124 \nL 231.696349 169.405676 \nL 248.107688 163.532159 \nL 265.198575 157.65292 \nL 283.006318 151.763554 \nL 301.552152 145.865572 \nL 320.830338 139.969193 \nL 340.793238 134.096886 \nL 361.337544 128.285995 \nL 382.29681 122.589081 \nL 403.446625 117.070604 \nL 424.530437 111.798482 \nL 445.297432 106.833683 \nL 465.539269 102.221612 \nL 485.110166 97.988789 \nL 503.92805 94.144507 \nL 521.963648 90.685105 \nL 539.224997 87.598734 \nL 541.701563 87.175077 \nL 541.701563 87.175077 \n\" clip-path=\"url(#p7c761753b9)\" style=\"fill: none; stroke: #8c564b; stroke-width: 0.5; stroke-linecap: round\"/>\n   </g>\n   <g id=\"patch_3\">\n    <path d=\"M 39.501563 339.84 \nL 39.501563 7.2 \n\" style=\"fill: none; stroke: #ffffff; stroke-width: 0.8; stroke-linejoin: miter; stroke-linecap: square\"/>\n   </g>\n   <g id=\"patch_4\">\n    <path d=\"M 541.701563 339.84 \nL 541.701563 7.2 \n\" style=\"fill: none; stroke: #ffffff; stroke-width: 0.8; stroke-linejoin: miter; stroke-linecap: square\"/>\n   </g>\n   <g id=\"patch_5\">\n    <path d=\"M 39.501563 339.84 \nL 541.701563 339.84 \n\" style=\"fill: none; stroke: #ffffff; stroke-width: 0.8; stroke-linejoin: miter; stroke-linecap: square\"/>\n   </g>\n   <g id=\"patch_6\">\n    <path d=\"M 39.501563 7.2 \nL 541.701563 7.2 \n\" style=\"fill: none; stroke: #ffffff; stroke-width: 0.8; stroke-linejoin: miter; stroke-linecap: square\"/>\n   </g>\n   <g id=\"legend_1\">\n    <g id=\"patch_7\">\n     <path d=\"M 46.501563 100.626562 \nL 119.601562 100.626562 \nQ 121.601562 100.626562 121.601562 98.626562 \nL 121.601562 14.2 \nQ 121.601562 12.2 119.601562 12.2 \nL 46.501563 12.2 \nQ 44.501563 12.2 44.501563 14.2 \nL 44.501563 98.626562 \nQ 44.501563 100.626562 46.501563 100.626562 \nz\n\" style=\"fill: #eaeaf2; opacity: 0.8; stroke: #cccccc; stroke-linejoin: miter\"/>\n    </g>\n    <g id=\"line2d_24\">\n     <path d=\"M 48.501563 20.3 \nL 58.501563 20.3 \nL 68.501563 20.3 \n\" style=\"fill: none; stroke: #1f77b4; stroke-width: 1.5; stroke-linecap: round\"/>\n    </g>\n    <g id=\"text_18\">\n     <!-- $y = \\ln(x)$ -->\n     <g style=\"fill: #262626\" transform=\"translate(76.501563 23.8) scale(0.1 -0.1)\">\n      <defs>\n       <path id=\"DejaVuSans-Oblique-79\" d=\"M 1588 -325 \nQ 1188 -997 936 -1164 \nQ 684 -1331 294 -1331 \nL -159 -1331 \nL -63 -850 \nL 269 -850 \nQ 509 -850 678 -719 \nQ 847 -588 1056 -206 \nL 1234 128 \nL 459 3500 \nL 1069 3500 \nL 1650 819 \nL 3256 3500 \nL 3859 3500 \nL 1588 -325 \nz\n\" transform=\"scale(0.015625)\"/>\n       <path id=\"DejaVuSans-3d\" d=\"M 678 2906 \nL 4684 2906 \nL 4684 2381 \nL 678 2381 \nL 678 2906 \nz\nM 678 1631 \nL 4684 1631 \nL 4684 1100 \nL 678 1100 \nL 678 1631 \nz\n\" transform=\"scale(0.015625)\"/>\n       <path id=\"DejaVuSans-6c\" d=\"M 603 4863 \nL 1178 4863 \nL 1178 0 \nL 603 0 \nL 603 4863 \nz\n\" transform=\"scale(0.015625)\"/>\n       <path id=\"DejaVuSans-6e\" d=\"M 3513 2113 \nL 3513 0 \nL 2938 0 \nL 2938 2094 \nQ 2938 2591 2744 2837 \nQ 2550 3084 2163 3084 \nQ 1697 3084 1428 2787 \nQ 1159 2491 1159 1978 \nL 1159 0 \nL 581 0 \nL 581 3500 \nL 1159 3500 \nL 1159 2956 \nQ 1366 3272 1645 3428 \nQ 1925 3584 2291 3584 \nQ 2894 3584 3203 3211 \nQ 3513 2838 3513 2113 \nz\n\" transform=\"scale(0.015625)\"/>\n       <path id=\"DejaVuSans-28\" d=\"M 1984 4856 \nQ 1566 4138 1362 3434 \nQ 1159 2731 1159 2009 \nQ 1159 1288 1364 580 \nQ 1569 -128 1984 -844 \nL 1484 -844 \nQ 1016 -109 783 600 \nQ 550 1309 550 2009 \nQ 550 2706 781 3412 \nQ 1013 4119 1484 4856 \nL 1984 4856 \nz\n\" transform=\"scale(0.015625)\"/>\n       <path id=\"DejaVuSans-Oblique-78\" d=\"M 3841 3500 \nL 2234 1784 \nL 3219 0 \nL 2559 0 \nL 1819 1388 \nL 531 0 \nL -166 0 \nL 1556 1844 \nL 641 3500 \nL 1300 3500 \nL 1972 2234 \nL 3144 3500 \nL 3841 3500 \nz\n\" transform=\"scale(0.015625)\"/>\n       <path id=\"DejaVuSans-29\" d=\"M 513 4856 \nL 1013 4856 \nQ 1481 4119 1714 3412 \nQ 1947 2706 1947 2009 \nQ 1947 1309 1714 600 \nQ 1481 -109 1013 -844 \nL 513 -844 \nQ 928 -128 1133 580 \nQ 1338 1288 1338 2009 \nQ 1338 2731 1133 3434 \nQ 928 4138 513 4856 \nz\n\" transform=\"scale(0.015625)\"/>\n      </defs>\n      <use xlink:href=\"#DejaVuSans-Oblique-79\" transform=\"translate(0 0.015625)\"/>\n      <use xlink:href=\"#DejaVuSans-3d\" transform=\"translate(78.662109 0.015625)\"/>\n      <use xlink:href=\"#DejaVuSans-6c\" transform=\"translate(181.933594 0.015625)\"/>\n      <use xlink:href=\"#DejaVuSans-6e\" transform=\"translate(209.716797 0.015625)\"/>\n      <use xlink:href=\"#DejaVuSans-28\" transform=\"translate(273.095703 0.015625)\"/>\n      <use xlink:href=\"#DejaVuSans-Oblique-78\" transform=\"translate(312.109375 0.015625)\"/>\n      <use xlink:href=\"#DejaVuSans-29\" transform=\"translate(371.289062 0.015625)\"/>\n     </g>\n    </g>\n    <g id=\"line2d_25\">\n     <path d=\"M 48.501563 34.557812 \nL 58.501563 34.557812 \nL 68.501563 34.557812 \n\" style=\"fill: none; stroke: #ff7f0e; stroke-width: 0.5; stroke-linecap: round\"/>\n    </g>\n    <g id=\"text_19\">\n     <!-- 1 -->\n     <g style=\"fill: #262626\" transform=\"translate(76.501563 38.057812) scale(0.1 -0.1)\">\n      <use xlink:href=\"#ArialMT-31\"/>\n     </g>\n    </g>\n    <g id=\"line2d_26\">\n     <path d=\"M 48.501563 48.703125 \nL 58.501563 48.703125 \nL 68.501563 48.703125 \n\" style=\"fill: none; stroke: #2ca02c; stroke-width: 0.5; stroke-linecap: round\"/>\n    </g>\n    <g id=\"text_20\">\n     <!-- 2 -->\n     <g style=\"fill: #262626\" transform=\"translate(76.501563 52.203125) scale(0.1 -0.1)\">\n      <use xlink:href=\"#ArialMT-32\"/>\n     </g>\n    </g>\n    <g id=\"line2d_27\">\n     <path d=\"M 48.501563 62.848437 \nL 58.501563 62.848437 \nL 68.501563 62.848437 \n\" style=\"fill: none; stroke: #d62728; stroke-width: 0.5; stroke-linecap: round\"/>\n    </g>\n    <g id=\"text_21\">\n     <!-- 3 -->\n     <g style=\"fill: #262626\" transform=\"translate(76.501563 66.348437) scale(0.1 -0.1)\">\n      <use xlink:href=\"#ArialMT-33\"/>\n     </g>\n    </g>\n    <g id=\"line2d_28\">\n     <path d=\"M 48.501563 76.99375 \nL 58.501563 76.99375 \nL 68.501563 76.99375 \n\" style=\"fill: none; stroke: #9467bd; stroke-width: 0.5; stroke-linecap: round\"/>\n    </g>\n    <g id=\"text_22\">\n     <!-- 4 -->\n     <g style=\"fill: #262626\" transform=\"translate(76.501563 80.49375) scale(0.1 -0.1)\">\n      <use xlink:href=\"#ArialMT-34\"/>\n     </g>\n    </g>\n    <g id=\"line2d_29\">\n     <path d=\"M 48.501563 91.139062 \nL 58.501563 91.139062 \nL 68.501563 91.139062 \n\" style=\"fill: none; stroke: #8c564b; stroke-width: 0.5; stroke-linecap: round\"/>\n    </g>\n    <g id=\"text_23\">\n     <!-- 5 -->\n     <g style=\"fill: #262626\" transform=\"translate(76.501563 94.639062) scale(0.1 -0.1)\">\n      <use xlink:href=\"#ArialMT-35\"/>\n     </g>\n    </g>\n   </g>\n  </g>\n </g>\n <defs>\n  <clipPath id=\"p7c761753b9\">\n   <rect x=\"39.501563\" y=\"7.2\" width=\"502.2\" height=\"332.64\"/>\n  </clipPath>\n </defs>\n</svg>\n",
      "text/plain": [
       "<Figure size 900x600 with 1 Axes>"
      ]
     },
     "metadata": {},
     "output_type": "display_data"
    }
   ],
   "source": [
    "fig = plt.figure(figsize=(9, 6))\n",
    "plt.xlim(0.3, 1)\n",
    "# plt.ylim(-0.50, 0.50)\n",
    "plt.plot(x, y, lw=1.5, label='$y = \\ln(x)$')\n",
    "plt.scatter(x3, y3, color='r', alpha=0.9, s=9)\n",
    "for i in range(2, 7):\n",
    "    func = np.poly1d(lagrange(x3[: i], y3[: i]))\n",
    "    plt.plot(x, func(x), lw=0.5, label=f'{i - 1}')\n",
    "plt.legend()\n",
    "plt.grid('--')\n",
    "plt.savefig(r'smg2.svg', dpi=300)"
   ]
  }
 ],
 "metadata": {
  "kernelspec": {
   "display_name": "Python 3",
   "language": "python",
   "name": "python3"
  },
  "language_info": {
   "codemirror_mode": {
    "name": "ipython",
    "version": 3
   },
   "file_extension": ".py",
   "mimetype": "text/x-python",
   "name": "python",
   "nbconvert_exporter": "python",
   "pygments_lexer": "ipython3",
   "version": "3.11.2"
  },
  "orig_nbformat": 4
 },
 "nbformat": 4,
 "nbformat_minor": 2
}
