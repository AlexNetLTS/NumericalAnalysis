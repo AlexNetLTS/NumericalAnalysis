{
 "cells": [
  {
   "cell_type": "code",
   "execution_count": 1,
   "metadata": {},
   "outputs": [],
   "source": [
    "from MSSpline import mspline\n",
    "import numpy as np\n",
    "from matplotlib_inline import backend_inline\n",
    "import seaborn as sns\n",
    "import matplotlib.pyplot as plt\n",
    "\n",
    "sns.set_style('darkgrid')\n",
    "# sns.set_palette('pastel')\n",
    "backend_inline.set_matplotlib_formats('svg')"
   ]
  },
  {
   "cell_type": "code",
   "execution_count": 2,
   "metadata": {},
   "outputs": [],
   "source": [
    "x = np.array([0.2, 0.4, 0.5, 0.8, 1.0])\n",
    "y = np.array([0.98, 0.92, 0.81, 0.64, 0.38])"
   ]
  },
  {
   "cell_type": "code",
   "execution_count": 3,
   "metadata": {},
   "outputs": [],
   "source": [
    "num, cj = mspline(0.3, x, y, kind=2, ddf1=0, ddfn=0)"
   ]
  },
  {
   "cell_type": "code",
   "execution_count": 4,
   "metadata": {},
   "outputs": [
    {
     "data": {
      "text/plain": [
       "array([[-7.73237179e+00,  2.82532051e+01, -7.98611111e+00,\n",
       "         5.58493590e+00],\n",
       "       [ 0.00000000e+00, -4.63942308e+00,  3.83653846e+00,\n",
       "        -3.35096154e+00],\n",
       "       [ 9.29487179e-03, -9.18589744e-01, -9.98878205e-01,\n",
       "        -8.53205128e-01],\n",
       "       [ 9.80000000e-01,  9.20000000e-01,  8.10000000e-01,\n",
       "         6.40000000e-01]])"
      ]
     },
     "execution_count": 4,
     "metadata": {},
     "output_type": "execute_result"
    }
   ],
   "source": [
    "cj"
   ]
  },
  {
   "cell_type": "code",
   "execution_count": 5,
   "metadata": {},
   "outputs": [],
   "source": [
    "from scipy.interpolate import CubicSpline"
   ]
  },
  {
   "cell_type": "code",
   "execution_count": 6,
   "metadata": {},
   "outputs": [],
   "source": [
    "fx = CubicSpline(x, y, bc_type='natural')"
   ]
  },
  {
   "cell_type": "code",
   "execution_count": 7,
   "metadata": {},
   "outputs": [
    {
     "data": {
      "text/plain": [
       "array([[-7.73237179e+00,  2.82532051e+01, -7.98611111e+00,\n",
       "         5.58493590e+00],\n",
       "       [-6.66133815e-16, -4.63942308e+00,  3.83653846e+00,\n",
       "        -3.35096154e+00],\n",
       "       [ 9.29487179e-03, -9.18589744e-01, -9.98878205e-01,\n",
       "        -8.53205128e-01],\n",
       "       [ 9.80000000e-01,  9.20000000e-01,  8.10000000e-01,\n",
       "         6.40000000e-01]])"
      ]
     },
     "execution_count": 7,
     "metadata": {},
     "output_type": "execute_result"
    }
   ],
   "source": [
    "fx.c"
   ]
  }
 ],
 "metadata": {
  "kernelspec": {
   "display_name": "Python 3",
   "language": "python",
   "name": "python3"
  },
  "language_info": {
   "codemirror_mode": {
    "name": "ipython",
    "version": 3
   },
   "file_extension": ".py",
   "mimetype": "text/x-python",
   "name": "python",
   "nbconvert_exporter": "python",
   "pygments_lexer": "ipython3",
   "version": "3.11.3"
  },
  "orig_nbformat": 4
 },
 "nbformat": 4,
 "nbformat_minor": 2
}
